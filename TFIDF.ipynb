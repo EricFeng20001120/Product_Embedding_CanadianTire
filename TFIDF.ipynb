{
 "cells": [
  {
   "attachments": {},
   "cell_type": "markdown",
   "metadata": {},
   "source": [
    "## TF-IDF embedding\n",
    "TF-IDF (term frequency-inverse document frequency) embedding is a technique used to represent text documents as numerical vectors. It is commonly used for natural language processing tasks such as text classification, information retrieval and text similarity comparison. The idea behind TF-IDF is to give more weight to words that are more informative and less common within a given corpus of documents.\n",
    "The TF-IDF score of a word is calculated as the product of its term frequency (TF) and inverse document frequency (IDF). The TF is the number of times a word appears in a document, while the IDF is the logarithm of the ratio of the total number of documents to the number of documents containing the word. Words that appear frequently in many documents will have a lower IDF score and therefore, lower overall TF-IDF score, while words that appear infrequently in a few documents will have a higher IDF score and therefore, higher overall TF-IDF score.\n",
    "TF-IDF embedding is useful for text classification, as it allows models to understand the importance of different words in a document and classify the text based on these features. It can also be used for information retrieval, by finding the documents most relevant to a query by comparing their tf-idf vectors."
   ]
  },
  {
   "attachments": {},
   "cell_type": "markdown",
   "metadata": {},
   "source": [
    "citation: https://github.com/omkar34/products-recommendation/blob/master/product_recommend.ipynb\n"
   ]
  },
  {
   "attachments": {},
   "cell_type": "markdown",
   "metadata": {},
   "source": [
    "Import libirares"
   ]
  },
  {
   "cell_type": "code",
   "execution_count": 1,
   "metadata": {},
   "outputs": [],
   "source": [
    "# Import portion of a package\n",
    "import matplotlib.pyplot as plt  # Most common visualization package that a lot of others are based on\n",
    "\n",
    "# Import full packages under custom name\n",
    "import numpy as np  # Common package for numerical methods\n",
    "import pandas as pd  # Common package for data storeage/manipulation\n",
    "\n",
    "from sklearn.feature_extraction.text import TfidfVectorizer\n",
    "from sklearn.metrics.pairwise import cosine_similarity"
   ]
  },
  {
   "attachments": {},
   "cell_type": "markdown",
   "metadata": {},
   "source": [
    "Get product detail data"
   ]
  },
  {
   "cell_type": "code",
   "execution_count": 2,
   "metadata": {},
   "outputs": [],
   "source": [
    "product_detail_detail_path = \"./clean_data/cleaned_products_detailed.csv\""
   ]
  },
  {
   "cell_type": "code",
   "execution_count": 3,
   "metadata": {},
   "outputs": [],
   "source": [
    "df_product_standard = pd.read_csv(product_detail_detail_path)"
   ]
  },
  {
   "cell_type": "code",
   "execution_count": 4,
   "metadata": {},
   "outputs": [
    {
     "data": {
      "text/html": [
       "<div>\n",
       "<style scoped>\n",
       "    .dataframe tbody tr th:only-of-type {\n",
       "        vertical-align: middle;\n",
       "    }\n",
       "\n",
       "    .dataframe tbody tr th {\n",
       "        vertical-align: top;\n",
       "    }\n",
       "\n",
       "    .dataframe thead th {\n",
       "        text-align: right;\n",
       "    }\n",
       "</style>\n",
       "<table border=\"1\" class=\"dataframe\">\n",
       "  <thead>\n",
       "    <tr style=\"text-align: right;\">\n",
       "      <th></th>\n",
       "      <th>Unnamed: 0</th>\n",
       "      <th>ctr_product_num</th>\n",
       "      <th>attribute_id</th>\n",
       "      <th>attr_value_mdm_seq_num</th>\n",
       "      <th>attr_lov_value_id</th>\n",
       "      <th>attr_value_en_txt</th>\n",
       "      <th>attr_value_en_sentence</th>\n",
       "    </tr>\n",
       "  </thead>\n",
       "  <tbody>\n",
       "    <tr>\n",
       "      <th>0</th>\n",
       "      <td>36</td>\n",
       "      <td>4000</td>\n",
       "      <td>FEATURES_BENEFITS_DLR_TXT</td>\n",
       "      <td>1</td>\n",
       "      <td>NaN</td>\n",
       "      <td>NaN</td>\n",
       "      <td>NaN</td>\n",
       "    </tr>\n",
       "    <tr>\n",
       "      <th>1</th>\n",
       "      <td>98</td>\n",
       "      <td>5044</td>\n",
       "      <td>FEATURES_BENEFITS_DLR_TXT</td>\n",
       "      <td>1</td>\n",
       "      <td>NaN</td>\n",
       "      <td>Travel poker chips</td>\n",
       "      <td>Travel poker chips</td>\n",
       "    </tr>\n",
       "    <tr>\n",
       "      <th>2</th>\n",
       "      <td>99</td>\n",
       "      <td>5045</td>\n",
       "      <td>FEATURES_BENEFITS_DLR_TXT</td>\n",
       "      <td>1</td>\n",
       "      <td>NaN</td>\n",
       "      <td>40 piece poker chips</td>\n",
       "      <td>40 piece poker chips</td>\n",
       "    </tr>\n",
       "    <tr>\n",
       "      <th>3</th>\n",
       "      <td>1739</td>\n",
       "      <td>21465</td>\n",
       "      <td>FEATURES_MUTLI_CD</td>\n",
       "      <td>1</td>\n",
       "      <td>NO_ADVANCED_FEATURES</td>\n",
       "      <td>NaN</td>\n",
       "      <td>NaN</td>\n",
       "    </tr>\n",
       "    <tr>\n",
       "      <th>4</th>\n",
       "      <td>1741</td>\n",
       "      <td>21466</td>\n",
       "      <td>FEATURES_MUTLI_CD</td>\n",
       "      <td>1</td>\n",
       "      <td>NO_ADVANCED_FEATURES</td>\n",
       "      <td>NaN</td>\n",
       "      <td>NaN</td>\n",
       "    </tr>\n",
       "    <tr>\n",
       "      <th>...</th>\n",
       "      <td>...</td>\n",
       "      <td>...</td>\n",
       "      <td>...</td>\n",
       "      <td>...</td>\n",
       "      <td>...</td>\n",
       "      <td>...</td>\n",
       "      <td>...</td>\n",
       "    </tr>\n",
       "    <tr>\n",
       "      <th>1559099</th>\n",
       "      <td>1981940</td>\n",
       "      <td>8997339</td>\n",
       "      <td>FEATURES_BENEFITS_DLR_TXT</td>\n",
       "      <td>2</td>\n",
       "      <td>NaN</td>\n",
       "      <td>Hockey backpack folds away into a separate zip...</td>\n",
       "      <td>Heavy-duty 600D Polyester and WR-coated materi...</td>\n",
       "    </tr>\n",
       "    <tr>\n",
       "      <th>1559100</th>\n",
       "      <td>1981941</td>\n",
       "      <td>8997339</td>\n",
       "      <td>FEATURES_BENEFITS_DLR_TXT</td>\n",
       "      <td>3</td>\n",
       "      <td>NaN</td>\n",
       "      <td>Hideaway padded backpack straps double as regular</td>\n",
       "      <td>Heavy-duty 600D Polyester and WR-coated materi...</td>\n",
       "    </tr>\n",
       "    <tr>\n",
       "      <th>1559101</th>\n",
       "      <td>1981942</td>\n",
       "      <td>8997339</td>\n",
       "      <td>FEATURES_BENEFITS_DLR_TXT</td>\n",
       "      <td>4</td>\n",
       "      <td>NaN</td>\n",
       "      <td>Multiple grab handles</td>\n",
       "      <td>Heavy-duty 600D Polyester and WR-coated materi...</td>\n",
       "    </tr>\n",
       "    <tr>\n",
       "      <th>1559102</th>\n",
       "      <td>1981943</td>\n",
       "      <td>8997339</td>\n",
       "      <td>FEATURES_BENEFITS_DLR_TXT</td>\n",
       "      <td>5</td>\n",
       "      <td>NaN</td>\n",
       "      <td>Large main compartment with separate floating ...</td>\n",
       "      <td>Heavy-duty 600D Polyester and WR-coated materi...</td>\n",
       "    </tr>\n",
       "    <tr>\n",
       "      <th>1559103</th>\n",
       "      <td>1981944</td>\n",
       "      <td>8997339</td>\n",
       "      <td>FEATURES_BENEFITS_DLR_TXT</td>\n",
       "      <td>6</td>\n",
       "      <td>NaN</td>\n",
       "      <td>Two separate floating skate pock</td>\n",
       "      <td>Heavy-duty 600D Polyester and WR-coated materi...</td>\n",
       "    </tr>\n",
       "  </tbody>\n",
       "</table>\n",
       "<p>1559104 rows × 7 columns</p>\n",
       "</div>"
      ],
      "text/plain": [
       "         Unnamed: 0  ctr_product_num               attribute_id  \\\n",
       "0                36             4000  FEATURES_BENEFITS_DLR_TXT   \n",
       "1                98             5044  FEATURES_BENEFITS_DLR_TXT   \n",
       "2                99             5045  FEATURES_BENEFITS_DLR_TXT   \n",
       "3              1739            21465          FEATURES_MUTLI_CD   \n",
       "4              1741            21466          FEATURES_MUTLI_CD   \n",
       "...             ...              ...                        ...   \n",
       "1559099     1981940          8997339  FEATURES_BENEFITS_DLR_TXT   \n",
       "1559100     1981941          8997339  FEATURES_BENEFITS_DLR_TXT   \n",
       "1559101     1981942          8997339  FEATURES_BENEFITS_DLR_TXT   \n",
       "1559102     1981943          8997339  FEATURES_BENEFITS_DLR_TXT   \n",
       "1559103     1981944          8997339  FEATURES_BENEFITS_DLR_TXT   \n",
       "\n",
       "         attr_value_mdm_seq_num     attr_lov_value_id  \\\n",
       "0                             1                   NaN   \n",
       "1                             1                   NaN   \n",
       "2                             1                   NaN   \n",
       "3                             1  NO_ADVANCED_FEATURES   \n",
       "4                             1  NO_ADVANCED_FEATURES   \n",
       "...                         ...                   ...   \n",
       "1559099                       2                   NaN   \n",
       "1559100                       3                   NaN   \n",
       "1559101                       4                   NaN   \n",
       "1559102                       5                   NaN   \n",
       "1559103                       6                   NaN   \n",
       "\n",
       "                                         attr_value_en_txt  \\\n",
       "0                                                      NaN   \n",
       "1                                       Travel poker chips   \n",
       "2                                     40 piece poker chips   \n",
       "3                                                      NaN   \n",
       "4                                                      NaN   \n",
       "...                                                    ...   \n",
       "1559099  Hockey backpack folds away into a separate zip...   \n",
       "1559100  Hideaway padded backpack straps double as regular   \n",
       "1559101                              Multiple grab handles   \n",
       "1559102  Large main compartment with separate floating ...   \n",
       "1559103                   Two separate floating skate pock   \n",
       "\n",
       "                                    attr_value_en_sentence  \n",
       "0                                                      NaN  \n",
       "1                                       Travel poker chips  \n",
       "2                                     40 piece poker chips  \n",
       "3                                                      NaN  \n",
       "4                                                      NaN  \n",
       "...                                                    ...  \n",
       "1559099  Heavy-duty 600D Polyester and WR-coated materi...  \n",
       "1559100  Heavy-duty 600D Polyester and WR-coated materi...  \n",
       "1559101  Heavy-duty 600D Polyester and WR-coated materi...  \n",
       "1559102  Heavy-duty 600D Polyester and WR-coated materi...  \n",
       "1559103  Heavy-duty 600D Polyester and WR-coated materi...  \n",
       "\n",
       "[1559104 rows x 7 columns]"
      ]
     },
     "execution_count": 4,
     "metadata": {},
     "output_type": "execute_result"
    }
   ],
   "source": [
    "df_product_standard"
   ]
  },
  {
   "attachments": {},
   "cell_type": "markdown",
   "metadata": {},
   "source": [
    "Get product description, and filter wrong data"
   ]
  },
  {
   "cell_type": "code",
   "execution_count": 5,
   "metadata": {},
   "outputs": [
    {
     "data": {
      "text/html": [
       "<div>\n",
       "<style scoped>\n",
       "    .dataframe tbody tr th:only-of-type {\n",
       "        vertical-align: middle;\n",
       "    }\n",
       "\n",
       "    .dataframe tbody tr th {\n",
       "        vertical-align: top;\n",
       "    }\n",
       "\n",
       "    .dataframe thead th {\n",
       "        text-align: right;\n",
       "    }\n",
       "</style>\n",
       "<table border=\"1\" class=\"dataframe\">\n",
       "  <thead>\n",
       "    <tr style=\"text-align: right;\">\n",
       "      <th></th>\n",
       "      <th>ctr_product_num</th>\n",
       "      <th>attr_value_en_sentence</th>\n",
       "    </tr>\n",
       "  </thead>\n",
       "  <tbody>\n",
       "    <tr>\n",
       "      <th>1</th>\n",
       "      <td>5044</td>\n",
       "      <td>Travel poker chips</td>\n",
       "    </tr>\n",
       "    <tr>\n",
       "      <th>2</th>\n",
       "      <td>5045</td>\n",
       "      <td>40 piece poker chips</td>\n",
       "    </tr>\n",
       "    <tr>\n",
       "      <th>6</th>\n",
       "      <td>22726</td>\n",
       "      <td>General Tire GMAX UHP; Features: Wide circumfe...</td>\n",
       "    </tr>\n",
       "    <tr>\n",
       "      <th>16</th>\n",
       "      <td>31702</td>\n",
       "      <td>Top 3 Vehicle Applications: Toyota Tercel (199...</td>\n",
       "    </tr>\n",
       "    <tr>\n",
       "      <th>19</th>\n",
       "      <td>31703</td>\n",
       "      <td>Top 3 Vehicle Applications: Hyundai Accent (20...</td>\n",
       "    </tr>\n",
       "    <tr>\n",
       "      <th>...</th>\n",
       "      <td>...</td>\n",
       "      <td>...</td>\n",
       "    </tr>\n",
       "    <tr>\n",
       "      <th>1559079</th>\n",
       "      <td>8997335</td>\n",
       "      <td>Reliable performance through consistency and u...</td>\n",
       "    </tr>\n",
       "    <tr>\n",
       "      <th>1559082</th>\n",
       "      <td>8997336</td>\n",
       "      <td>Reliable performance through consistency and u...</td>\n",
       "    </tr>\n",
       "    <tr>\n",
       "      <th>1559085</th>\n",
       "      <td>8997337</td>\n",
       "      <td>Made from heavy duty 600 denier water-resistan...</td>\n",
       "    </tr>\n",
       "    <tr>\n",
       "      <th>1559091</th>\n",
       "      <td>8997338</td>\n",
       "      <td>Strong 600D polyester exteriorRemovable divide...</td>\n",
       "    </tr>\n",
       "    <tr>\n",
       "      <th>1559098</th>\n",
       "      <td>8997339</td>\n",
       "      <td>Heavy-duty 600D Polyester and WR-coated materi...</td>\n",
       "    </tr>\n",
       "  </tbody>\n",
       "</table>\n",
       "<p>235390 rows × 2 columns</p>\n",
       "</div>"
      ],
      "text/plain": [
       "         ctr_product_num                             attr_value_en_sentence\n",
       "1                   5044                                 Travel poker chips\n",
       "2                   5045                               40 piece poker chips\n",
       "6                  22726  General Tire GMAX UHP; Features: Wide circumfe...\n",
       "16                 31702  Top 3 Vehicle Applications: Toyota Tercel (199...\n",
       "19                 31703  Top 3 Vehicle Applications: Hyundai Accent (20...\n",
       "...                  ...                                                ...\n",
       "1559079          8997335  Reliable performance through consistency and u...\n",
       "1559082          8997336  Reliable performance through consistency and u...\n",
       "1559085          8997337  Made from heavy duty 600 denier water-resistan...\n",
       "1559091          8997338  Strong 600D polyester exteriorRemovable divide...\n",
       "1559098          8997339  Heavy-duty 600D Polyester and WR-coated materi...\n",
       "\n",
       "[235390 rows x 2 columns]"
      ]
     },
     "execution_count": 5,
     "metadata": {},
     "output_type": "execute_result"
    }
   ],
   "source": [
    "df_detailed = df_product_standard[['ctr_product_num','attr_value_en_sentence']]\n",
    "df_detailed = df_detailed.dropna()\n",
    "df_detailed = df_detailed.drop_duplicates()\n",
    "df_detailed = df_detailed[~df_detailed.attr_value_en_sentence.isin(['Features and Benefits not loaded','NaN','Features and benefits not loaded','Features and Benefits not loaded','Features and Benefits not loaded,'])]\n",
    "df_detailed"
   ]
  },
  {
   "attachments": {},
   "cell_type": "markdown",
   "metadata": {},
   "source": [
    "Create tfidf vectorizer, containing trigram and bigram which is 2 words and 3 words combination, filter words occur less than 1000 times, remove stop word"
   ]
  },
  {
   "cell_type": "code",
   "execution_count": 6,
   "metadata": {},
   "outputs": [
    {
     "data": {
      "text/html": [
       "<style>#sk-container-id-1 {color: black;background-color: white;}#sk-container-id-1 pre{padding: 0;}#sk-container-id-1 div.sk-toggleable {background-color: white;}#sk-container-id-1 label.sk-toggleable__label {cursor: pointer;display: block;width: 100%;margin-bottom: 0;padding: 0.3em;box-sizing: border-box;text-align: center;}#sk-container-id-1 label.sk-toggleable__label-arrow:before {content: \"▸\";float: left;margin-right: 0.25em;color: #696969;}#sk-container-id-1 label.sk-toggleable__label-arrow:hover:before {color: black;}#sk-container-id-1 div.sk-estimator:hover label.sk-toggleable__label-arrow:before {color: black;}#sk-container-id-1 div.sk-toggleable__content {max-height: 0;max-width: 0;overflow: hidden;text-align: left;background-color: #f0f8ff;}#sk-container-id-1 div.sk-toggleable__content pre {margin: 0.2em;color: black;border-radius: 0.25em;background-color: #f0f8ff;}#sk-container-id-1 input.sk-toggleable__control:checked~div.sk-toggleable__content {max-height: 200px;max-width: 100%;overflow: auto;}#sk-container-id-1 input.sk-toggleable__control:checked~label.sk-toggleable__label-arrow:before {content: \"▾\";}#sk-container-id-1 div.sk-estimator input.sk-toggleable__control:checked~label.sk-toggleable__label {background-color: #d4ebff;}#sk-container-id-1 div.sk-label input.sk-toggleable__control:checked~label.sk-toggleable__label {background-color: #d4ebff;}#sk-container-id-1 input.sk-hidden--visually {border: 0;clip: rect(1px 1px 1px 1px);clip: rect(1px, 1px, 1px, 1px);height: 1px;margin: -1px;overflow: hidden;padding: 0;position: absolute;width: 1px;}#sk-container-id-1 div.sk-estimator {font-family: monospace;background-color: #f0f8ff;border: 1px dotted black;border-radius: 0.25em;box-sizing: border-box;margin-bottom: 0.5em;}#sk-container-id-1 div.sk-estimator:hover {background-color: #d4ebff;}#sk-container-id-1 div.sk-parallel-item::after {content: \"\";width: 100%;border-bottom: 1px solid gray;flex-grow: 1;}#sk-container-id-1 div.sk-label:hover label.sk-toggleable__label {background-color: #d4ebff;}#sk-container-id-1 div.sk-serial::before {content: \"\";position: absolute;border-left: 1px solid gray;box-sizing: border-box;top: 0;bottom: 0;left: 50%;z-index: 0;}#sk-container-id-1 div.sk-serial {display: flex;flex-direction: column;align-items: center;background-color: white;padding-right: 0.2em;padding-left: 0.2em;position: relative;}#sk-container-id-1 div.sk-item {position: relative;z-index: 1;}#sk-container-id-1 div.sk-parallel {display: flex;align-items: stretch;justify-content: center;background-color: white;position: relative;}#sk-container-id-1 div.sk-item::before, #sk-container-id-1 div.sk-parallel-item::before {content: \"\";position: absolute;border-left: 1px solid gray;box-sizing: border-box;top: 0;bottom: 0;left: 50%;z-index: -1;}#sk-container-id-1 div.sk-parallel-item {display: flex;flex-direction: column;z-index: 1;position: relative;background-color: white;}#sk-container-id-1 div.sk-parallel-item:first-child::after {align-self: flex-end;width: 50%;}#sk-container-id-1 div.sk-parallel-item:last-child::after {align-self: flex-start;width: 50%;}#sk-container-id-1 div.sk-parallel-item:only-child::after {width: 0;}#sk-container-id-1 div.sk-dashed-wrapped {border: 1px dashed gray;margin: 0 0.4em 0.5em 0.4em;box-sizing: border-box;padding-bottom: 0.4em;background-color: white;}#sk-container-id-1 div.sk-label label {font-family: monospace;font-weight: bold;display: inline-block;line-height: 1.2em;}#sk-container-id-1 div.sk-label-container {text-align: center;}#sk-container-id-1 div.sk-container {/* jupyter's `normalize.less` sets `[hidden] { display: none; }` but bootstrap.min.css set `[hidden] { display: none !important; }` so we also need the `!important` here to be able to override the default hidden behavior on the sphinx rendered scikit-learn.org. See: https://github.com/scikit-learn/scikit-learn/issues/21755 */display: inline-block !important;position: relative;}#sk-container-id-1 div.sk-text-repr-fallback {display: none;}</style><div id=\"sk-container-id-1\" class=\"sk-top-container\"><div class=\"sk-text-repr-fallback\"><pre>TfidfVectorizer(min_df=1000, ngram_range=(1, 3), stop_words=&#x27;english&#x27;)</pre><b>In a Jupyter environment, please rerun this cell to show the HTML representation or trust the notebook. <br />On GitHub, the HTML representation is unable to render, please try loading this page with nbviewer.org.</b></div><div class=\"sk-container\" hidden><div class=\"sk-item\"><div class=\"sk-estimator sk-toggleable\"><input class=\"sk-toggleable__control sk-hidden--visually\" id=\"sk-estimator-id-1\" type=\"checkbox\" checked><label for=\"sk-estimator-id-1\" class=\"sk-toggleable__label sk-toggleable__label-arrow\">TfidfVectorizer</label><div class=\"sk-toggleable__content\"><pre>TfidfVectorizer(min_df=1000, ngram_range=(1, 3), stop_words=&#x27;english&#x27;)</pre></div></div></div></div></div>"
      ],
      "text/plain": [
       "TfidfVectorizer(min_df=1000, ngram_range=(1, 3), stop_words='english')"
      ]
     },
     "execution_count": 6,
     "metadata": {},
     "output_type": "execute_result"
    }
   ],
   "source": [
    "#setting tfidf vectorizer\n",
    "tf = TfidfVectorizer(ngram_range =(1,3), min_df=1000, stop_words = 'english',analyzer='word')\n",
    "tf"
   ]
  },
  {
   "attachments": {},
   "cell_type": "markdown",
   "metadata": {},
   "source": [
    "Create matrix"
   ]
  },
  {
   "cell_type": "code",
   "execution_count": 7,
   "metadata": {},
   "outputs": [],
   "source": [
    "#tfidf matrix\n",
    "tf_matrix = tf.fit_transform(df_detailed['attr_value_en_sentence'])\n"
   ]
  },
  {
   "cell_type": "code",
   "execution_count": 8,
   "metadata": {},
   "outputs": [
    {
     "data": {
      "text/plain": [
       "(235390, 1378)"
      ]
     },
     "execution_count": 8,
     "metadata": {},
     "output_type": "execute_result"
    }
   ],
   "source": [
    "tf_matrix.shape"
   ]
  },
  {
   "cell_type": "code",
   "execution_count": 9,
   "metadata": {},
   "outputs": [
    {
     "name": "stdout",
     "output_type": "stream",
     "text": [
      "  (1, 893)\t0.6515558126248835\n",
      "  (1, 36)\t0.7586007006553104\n",
      "  (2, 1318)\t0.22507828397415125\n",
      "  (2, 597)\t0.2477503935400904\n",
      "  (2, 927)\t0.26346949187274754\n",
      "  (2, 140)\t0.32608032199000436\n",
      "  (2, 1254)\t0.5326143170226687\n",
      "  (2, 1134)\t0.2779408632928911\n",
      "  (2, 559)\t0.3276555624672216\n",
      "  (2, 1341)\t0.22182437410443015\n",
      "  (2, 453)\t0.18037737203806478\n",
      "  (2, 1231)\t0.2246880095023191\n",
      "  (2, 536)\t0.33421685526266504\n",
      "  (3, 88)\t0.8648729507786918\n",
      "  (3, 1294)\t0.5019908156643492\n",
      "  (4, 88)\t0.8648729507786918\n",
      "  (4, 1294)\t0.5019908156643492\n",
      "  (6, 1242)\t0.33622536162706224\n",
      "  (6, 1333)\t0.33053463254801335\n",
      "  (6, 413)\t0.4163614938518135\n",
      "  (6, 262)\t0.3738739817556827\n",
      "  (6, 458)\t0.3281215547900794\n",
      "  (6, 1217)\t0.29625025420381146\n",
      "  (6, 826)\t0.2909791588234598\n",
      "  (6, 1254)\t0.32826277966882755\n",
      "  :\t:\n",
      "  (235387, 390)\t0.2411671676225766\n",
      "  (235387, 130)\t0.24903871124663973\n",
      "  (235387, 74)\t0.27384805561027714\n",
      "  (235387, 1022)\t0.1917850797043513\n",
      "  (235387, 1318)\t0.19538851635031831\n",
      "  (235388, 1377)\t0.3492897750623917\n",
      "  (235388, 797)\t0.29710893235919167\n",
      "  (235388, 913)\t0.26539341753909707\n",
      "  (235388, 1339)\t0.3158713662404063\n",
      "  (235388, 232)\t0.28393315611665226\n",
      "  (235388, 1174)\t0.22939347557649087\n",
      "  (235388, 419)\t0.3370245539702908\n",
      "  (235388, 10)\t0.5277358802256279\n",
      "  (235388, 396)\t0.18187307071221026\n",
      "  (235388, 597)\t0.24719753716304899\n",
      "  (235389, 766)\t0.32628870184125747\n",
      "  (235389, 1168)\t0.35317556876557704\n",
      "  (235389, 913)\t0.28713759406442246\n",
      "  (235389, 237)\t0.3126798690479908\n",
      "  (235389, 868)\t0.3617967110952479\n",
      "  (235389, 375)\t0.31016499589390867\n",
      "  (235389, 595)\t0.3203131116530893\n",
      "  (235389, 594)\t0.29932540292965126\n",
      "  (235389, 390)\t0.29990412529996124\n",
      "  (235389, 104)\t0.2816880308068848\n"
     ]
    }
   ],
   "source": [
    "print(tf_matrix)"
   ]
  },
  {
   "cell_type": "code",
   "execution_count": 33,
   "metadata": {},
   "outputs": [],
   "source": [
    "tf_df = pd.DataFrame(tf_matrix.toarray(),columns = tf.get_feature_names_out())"
   ]
  },
  {
   "attachments": {},
   "cell_type": "markdown",
   "metadata": {},
   "source": [
    "Below is the tfidf vectorizer with row equal to product, column equal to unique words in vocabulary"
   ]
  },
  {
   "cell_type": "code",
   "execution_count": 32,
   "metadata": {},
   "outputs": [],
   "source": [
    "df_detailed.reset_index(inplace=True)"
   ]
  },
  {
   "cell_type": "code",
   "execution_count": 35,
   "metadata": {},
   "outputs": [],
   "source": [
    "tf_df = tf_df.join(df_detailed['ctr_product_num'])"
   ]
  },
  {
   "cell_type": "code",
   "execution_count": 36,
   "metadata": {},
   "outputs": [],
   "source": [
    "tf_df.set_index('ctr_product_num', inplace=True)"
   ]
  },
  {
   "cell_type": "code",
   "execution_count": 38,
   "metadata": {},
   "outputs": [],
   "source": [
    "tf_df.to_csv(\"embeddings/TFIDF_all.csv\")"
   ]
  }
 ],
 "metadata": {
  "kernelspec": {
   "display_name": "Python 3.9.13 ('base')",
   "language": "python",
   "name": "python3"
  },
  "language_info": {
   "codemirror_mode": {
    "name": "ipython",
    "version": 3
   },
   "file_extension": ".py",
   "mimetype": "text/x-python",
   "name": "python",
   "nbconvert_exporter": "python",
   "pygments_lexer": "ipython3",
   "version": "3.10.9"
  },
  "orig_nbformat": 4,
  "vscode": {
   "interpreter": {
    "hash": "553e32e48ac880454f5cffdbdb5a760352d718aa046ed296baeaf7bc461bea05"
   }
  }
 },
 "nbformat": 4,
 "nbformat_minor": 2
}
