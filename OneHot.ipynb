{
 "cells": [
  {
   "attachments": {},
   "cell_type": "markdown",
   "metadata": {},
   "source": [
    "# Onehot Encodings"
   ]
  },
  {
   "attachments": {},
   "cell_type": "markdown",
   "metadata": {},
   "source": [
    "This notebook creates the one-hot encoded product data and write it to a csv for use by other notebooks. Columns with hierarchical data are excluded from the one-hot encoded vectors."
   ]
  },
  {
   "attachments": {},
   "cell_type": "markdown",
   "metadata": {},
   "source": [
    "references: \n",
    "\n",
    "https://www.statology.org/one-hot-encoding-in-python/"
   ]
  },
  {
   "cell_type": "code",
   "execution_count": 93,
   "metadata": {},
   "outputs": [],
   "source": [
    "import pandas as pd\n",
    "import numpy as np\n",
    "from sklearn.preprocessing import OneHotEncoder"
   ]
  },
  {
   "cell_type": "code",
   "execution_count": 94,
   "metadata": {},
   "outputs": [],
   "source": [
    "product_path = \"clean_data/cleaned_products.csv\"\n",
    "df_product_standard = pd.read_csv(product_path)\n",
    "\n",
    "df_product_standard = df_product_standard.drop(columns=[\"Unnamed: 0\"])\n",
    "df_product_standard = df_product_standard.sample(frac=1, random_state=42)"
   ]
  },
  {
   "cell_type": "code",
   "execution_count": null,
   "metadata": {},
   "outputs": [],
   "source": [
    "df_product_standard.head()"
   ]
  },
  {
   "cell_type": "code",
   "execution_count": 96,
   "metadata": {},
   "outputs": [],
   "source": [
    "#list the continuous columns and categorical columns\n",
    "contcols = [\"ctr_product_num\", \"package_depth_qty\", \"package_height_qty\", \"package_volume_qty\", \"package_weight_qty\", \"national_consumer_price_amt\"]\n",
    "catcols = [\"corporate_status_cd\", \"ctr_good_better_best_cd\", \"ctr_product_profile_cd\", \"ctr_consumer_role_cd\", \"cold_sensitive_ind\", \"heat_sensitive_ind\"]\n",
    "\n",
    "df_categorical = df_product_standard[catcols]\n",
    "df_continuous = df_product_standard[contcols]"
   ]
  },
  {
   "cell_type": "code",
   "execution_count": null,
   "metadata": {},
   "outputs": [],
   "source": [
    "#get one hot encodings for categorical columns\n",
    "df_onehot = pd.get_dummies(df_categorical)\n",
    "df_onehot"
   ]
  },
  {
   "cell_type": "code",
   "execution_count": null,
   "metadata": {},
   "outputs": [],
   "source": [
    "#combine continuous column values with onehot encoding for each product\n",
    "df_cont_and_onehot = df_onehot.join(df_continuous)\n",
    "df_cont_and_onehot"
   ]
  },
  {
   "cell_type": "code",
   "execution_count": 99,
   "metadata": {},
   "outputs": [],
   "source": [
    "df_cont_and_onehot.set_index(\"ctr_product_num\", inplace=True)"
   ]
  },
  {
   "cell_type": "code",
   "execution_count": 100,
   "metadata": {},
   "outputs": [],
   "source": [
    "df_cont_and_onehot.dropna(inplace=True)"
   ]
  },
  {
   "cell_type": "code",
   "execution_count": null,
   "metadata": {},
   "outputs": [],
   "source": [
    "df_cont_and_onehot"
   ]
  },
  {
   "cell_type": "code",
   "execution_count": 102,
   "metadata": {},
   "outputs": [],
   "source": [
    "df_cont_and_onehot.to_csv(\"embeddings/onehot.csv\")"
   ]
  },
  {
   "attachments": {},
   "cell_type": "markdown",
   "metadata": {},
   "source": [
    "# Data Preview"
   ]
  },
  {
   "attachments": {},
   "cell_type": "markdown",
   "metadata": {},
   "source": [
    "These embeddings are generated from the product_standard_details.csv by first converting the categorical columns into one-hot encodings, then combining these with the numerical/continuous values. The end result is a sparse vector for each product. Note: heirarchical categorical columns were dropped since these embeddings will be used to predict product category later on."
   ]
  },
  {
   "attachments": {},
   "cell_type": "markdown",
   "metadata": {},
   "source": [
    "For example, product 779760 is a fishing hook, with the following embedding:"
   ]
  },
  {
   "cell_type": "code",
   "execution_count": null,
   "metadata": {},
   "outputs": [],
   "source": [
    "df_cont_and_onehot.iloc[779760]"
   ]
  },
  {
   "attachments": {},
   "cell_type": "markdown",
   "metadata": {},
   "source": [
    "# One-Hot Encoded Store Embeddings"
   ]
  },
  {
   "cell_type": "code",
   "execution_count": 104,
   "metadata": {},
   "outputs": [],
   "source": [
    "store_path = \"clean_data/cleaned_store.csv\"\n",
    "df_store = pd.read_csv(store_path)\n",
    "\n",
    "df_store = df_store.drop(columns=[\"Unnamed: 0\"])\n",
    "#df_store = df_store.sample(frac=1, random_state=42)"
   ]
  },
  {
   "cell_type": "code",
   "execution_count": null,
   "metadata": {},
   "outputs": [],
   "source": [
    "df_store"
   ]
  },
  {
   "cell_type": "code",
   "execution_count": 106,
   "metadata": {},
   "outputs": [],
   "source": [
    "#list the continuous columns and categorical columns (dropping store name and shopping center name)\n",
    "contcols_store = [\"store_num\", \"latitude_qty\", \"longitude_qty\", \"retail_square_ft_qty\", \"ins_garden_centre_sqr_ft_qty\", \"number_of_service_bays_qty\", \"checkouts_count\"]\n",
    "catcols_store = [\"province_cd\", \"store_size_cd\", \"store_concept_type_nm\", \"onsite_propane_txt\", \"winterized_canopy_txt\"]\n",
    "\n",
    "df_categorical_store = df_store[catcols_store]\n",
    "df_continuous_store = df_store[contcols_store]"
   ]
  },
  {
   "cell_type": "code",
   "execution_count": null,
   "metadata": {},
   "outputs": [],
   "source": [
    "#df with only continuous (numerical) columns\n",
    "df_continuous_store"
   ]
  },
  {
   "cell_type": "code",
   "execution_count": null,
   "metadata": {},
   "outputs": [],
   "source": [
    "#df with only categorical columns\n",
    "df_categorical_store"
   ]
  },
  {
   "cell_type": "code",
   "execution_count": null,
   "metadata": {},
   "outputs": [],
   "source": [
    "#get one hot encodings for categorical columns\n",
    "df_onehot_store = pd.get_dummies(df_categorical_store)\n",
    "df_onehot_store"
   ]
  },
  {
   "cell_type": "code",
   "execution_count": null,
   "metadata": {},
   "outputs": [],
   "source": [
    "#combine continuous column values with onehot encoding for each product\n",
    "df_cont_and_onehot_store = df_continuous_store.join(df_onehot_store)\n",
    "df_cont_and_onehot_store.set_index(\"store_num\", inplace=True)\n",
    "df_cont_and_onehot_store.dropna(inplace=True)\n",
    "df_cont_and_onehot_store"
   ]
  },
  {
   "cell_type": "code",
   "execution_count": 111,
   "metadata": {},
   "outputs": [],
   "source": [
    "df_cont_and_onehot_store.to_csv(\"embeddings/onehot_store.csv\")"
   ]
  }
 ],
 "metadata": {
  "kernelspec": {
   "display_name": "ctciter1",
   "language": "python",
   "name": "python3"
  },
  "language_info": {
   "codemirror_mode": {
    "name": "ipython",
    "version": 3
   },
   "file_extension": ".py",
   "mimetype": "text/x-python",
   "name": "python",
   "nbconvert_exporter": "python",
   "pygments_lexer": "ipython3",
   "version": "3.10.9"
  },
  "orig_nbformat": 4,
  "vscode": {
   "interpreter": {
    "hash": "7ba15d0a7ddc87a7cdc03ddbf3292318d97fc3790c5fcb6de245b479ad7e98a5"
   }
  }
 },
 "nbformat": 4,
 "nbformat_minor": 2
}
