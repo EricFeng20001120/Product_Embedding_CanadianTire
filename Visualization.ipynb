{
 "cells": [
  {
   "cell_type": "code",
   "execution_count": 48,
   "metadata": {},
   "outputs": [],
   "source": [
    "import tensorflow as tfflow\n",
    "from sklearn.manifold import TSNE\n",
    "import os\n",
    "import tensorflow as tf\n",
    "import tensorflow_datasets as tfds\n",
    "from tensorboard.plugins import projector\n",
    "import pickle\n",
    "import numpy as np\n",
    "import pandas as pd\n",
    "\n"
   ]
  },
  {
   "attachments": {},
   "cell_type": "markdown",
   "metadata": {},
   "source": [
    "Reading Label Data"
   ]
  },
  {
   "cell_type": "code",
   "execution_count": 49,
   "metadata": {},
   "outputs": [],
   "source": [
    "df_product_detailed = pd.read_csv('clean_data/cleaned_products_detailed.csv')\n",
    "df_product_standard = pd.read_csv('clean_data/cleaned_products.csv')\n",
    "\n",
    "df_product_standard = df_product_standard[[\"ctr_product_num\", \"short_desc\"]]"
   ]
  },
  {
   "cell_type": "code",
   "execution_count": 50,
   "metadata": {},
   "outputs": [],
   "source": [
    "embeddings = ['TFIDF_all.csv','meta_prod2vec_all.csv','minilm_100k.csv','onehot_all.csv','prod2vec_all.csv','roberta_100k.csv','t5_100k.csv']"
   ]
  },
  {
   "attachments": {},
   "cell_type": "markdown",
   "metadata": {},
   "source": [
    "# Generate visualization"
   ]
  },
  {
   "cell_type": "code",
   "execution_count": 51,
   "metadata": {},
   "outputs": [],
   "source": [
    "for i, filename in enumerate(embeddings):\n",
    "    test_embedding = pd.read_csv(\"embeddings/\" + filename, index_col=0, header=0)\n",
    "    test_embedding = test_embedding.sample(frac=1)[:1000]\n",
    "    df_combined = test_embedding.join(df_product_standard.set_index(\"ctr_product_num\"))\n",
    "    df_combined.dropna(inplace=True)\n",
    "\n",
    "    #convert target column to numerical\n",
    "    #df_combined.merch_lob_nm = pd.Categorical(pd.factorize(df_combined.merch_lob_nm)[0])\n",
    "\n",
    "    drop_for_X = [\"short_desc\"]\n",
    "\n",
    "    X = df_combined.drop(columns=drop_for_X)\n",
    "    Y = df_combined[[\"short_desc\"]]\n",
    "\n",
    "    # Save Labels separately on a line-by-line manner.\n",
    "    with open('visualization/'+filename+'_label.tsv', \"w\") as f:\n",
    "        for i in Y['short_desc']:\n",
    "            f.write(\"{}\\n\".format(i))\n",
    "\n",
    "    # Convert the product embeddings to a numpy array\n",
    "    product_embeddings_array = np.array(X, dtype=np.float32)\n",
    "\n",
    "    # Use t-SNE to reduce the dimensions of the product embeddings\n",
    "    tsne = TSNE(perplexity=30,n_components=3)\n",
    "    product_embeddings_3d = tsne.fit_transform(product_embeddings_array)\n",
    "    #print(product_embeddings_array)\n",
    "    #print(product_embeddings_3d)\n",
    "    # Save the dataset to a file\n",
    "    with open('visualization/'+filename+'_value.tsv', 'w') as f:\n",
    "        for x, y, z in product_embeddings_3d:\n",
    "            f.write(f\"{x}\\t{y}\\t{z}\\n\")"
   ]
  },
  {
   "attachments": {},
   "cell_type": "markdown",
   "metadata": {},
   "source": [
    "# For store embedding"
   ]
  },
  {
   "cell_type": "code",
   "execution_count": 52,
   "metadata": {},
   "outputs": [],
   "source": [
    "store_sales_embedding = pd.read_csv('embeddings/store_embeddings/store_sales_embedding.csv')\n",
    "\n",
    "path_store = \"clean_data/cleaned_store.csv\" #Eric\n",
    "# put it in data farme\n",
    "df_store = pd.read_csv(path_store, index_col=0, header=0)\n",
    "df_store_label = df_store[['store_num','store_nm']]\n",
    "df_store_label\n",
    "\n",
    "store_embedding = store_sales_embedding.drop_duplicates(subset=\"store_num\")\n",
    "store_embedding = store_embedding.drop(columns=[\"yr_num\",\"wk_num\", \"sales_qty\"], axis=1)\n",
    "store_embedding = store_embedding.sort_values(by=\"store_num\")\n",
    "store_embedding.reset_index(inplace=True, drop=True )"
   ]
  },
  {
   "cell_type": "code",
   "execution_count": 53,
   "metadata": {},
   "outputs": [],
   "source": [
    "merged_data = pd.merge(store_embedding, df_store_label, on='store_num', how='left')"
   ]
  },
  {
   "cell_type": "code",
   "execution_count": 54,
   "metadata": {},
   "outputs": [],
   "source": [
    "#shuffle the data\n",
    "df = merged_data.sample(frac=1)\n",
    "drop_for_X = ['store_nm']\n",
    "\n",
    "X = df.drop(columns=drop_for_X)\n",
    "Y = df[[\"store_nm\"]]"
   ]
  },
  {
   "cell_type": "code",
   "execution_count": 55,
   "metadata": {},
   "outputs": [],
   "source": [
    "# Save Labels separately on a line-by-line manner.\n",
    "with open('visualization/'+'store'+'_label.tsv', \"w\") as f:\n",
    "    for i in Y['store_nm']:\n",
    "        f.write(\"{}\\n\".format(i))\n",
    "\n",
    "# Convert the product embeddings to a numpy array\n",
    "product_embeddings_array = np.array(X, dtype=np.float32)\n",
    "\n",
    "# Use t-SNE to reduce the dimensions of the product embeddings\n",
    "tsne = TSNE(perplexity=30,n_components=3)\n",
    "product_embeddings_3d = tsne.fit_transform(product_embeddings_array)\n",
    "#print(product_embeddings_array)\n",
    "#print(product_embeddings_3d)\n",
    "# Save the dataset to a file\n",
    "with open('visualization/'+'store'+'_value.tsv', 'w') as f:\n",
    "    for x, y, z in product_embeddings_3d:\n",
    "        f.write(f\"{x}\\t{y}\\t{z}\\n\")"
   ]
  }
 ],
 "metadata": {
  "kernelspec": {
   "display_name": "ctciter1",
   "language": "python",
   "name": "python3"
  },
  "language_info": {
   "codemirror_mode": {
    "name": "ipython",
    "version": 3
   },
   "file_extension": ".py",
   "mimetype": "text/x-python",
   "name": "python",
   "nbconvert_exporter": "python",
   "pygments_lexer": "ipython3",
   "version": "3.10.9"
  },
  "orig_nbformat": 4,
  "vscode": {
   "interpreter": {
    "hash": "c2a3f525a885abe135a8a83fb70c42aac4b48e8c0db7add46fc3397d5848b112"
   }
  }
 },
 "nbformat": 4,
 "nbformat_minor": 2
}
