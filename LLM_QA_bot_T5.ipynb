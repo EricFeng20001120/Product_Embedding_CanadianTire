{
 "cells": [
  {
   "attachments": {},
   "cell_type": "markdown",
   "metadata": {},
   "source": [
    "# Large Language Model Question and Answering Bot.\n",
    "\n",
    "This will be based on the sentenceT5 by google \n",
    "\n",
    "Reference: https://github.com/amrrs/LLM-QA-Bot/blob/main/LLM_Q%26A_with_Open_Source_Hugging_Face_Models.ipynb "
   ]
  },
  {
   "cell_type": "code",
   "execution_count": 1,
   "metadata": {},
   "outputs": [
    {
     "name": "stdout",
     "output_type": "stream",
     "text": [
      "Thu Mar 16 20:42:04 2023       \n",
      "+---------------------------------------------------------------------------------------+\n",
      "| NVIDIA-SMI 531.18                 Driver Version: 531.18       CUDA Version: 12.1     |\n",
      "|-----------------------------------------+----------------------+----------------------+\n",
      "| GPU  Name                      TCC/WDDM | Bus-Id        Disp.A | Volatile Uncorr. ECC |\n",
      "| Fan  Temp  Perf            Pwr:Usage/Cap|         Memory-Usage | GPU-Util  Compute M. |\n",
      "|                                         |                      |               MIG M. |\n",
      "|=========================================+======================+======================|\n",
      "|   0  NVIDIA GeForce RTX 3070 Ti    WDDM | 00000000:2B:00.0  On |                  N/A |\n",
      "| 39%   59C    P0               72W / 290W|    860MiB /  8192MiB |      2%      Default |\n",
      "|                                         |                      |                  N/A |\n",
      "+-----------------------------------------+----------------------+----------------------+\n",
      "                                                                                         \n",
      "+---------------------------------------------------------------------------------------+\n",
      "| Processes:                                                                            |\n",
      "|  GPU   GI   CI        PID   Type   Process name                            GPU Memory |\n",
      "|        ID   ID                                                             Usage      |\n",
      "|=======================================================================================|\n",
      "|    0   N/A  N/A       248    C+G   ...GeForce Experience\\NVIDIA Share.exe    N/A      |\n",
      "|    0   N/A  N/A      1268    C+G   ...CBS_cw5n1h2txyewy\\TextInputHost.exe    N/A      |\n",
      "|    0   N/A  N/A      6836    C+G   ...al\\Discord\\app-1.0.9011\\Discord.exe    N/A      |\n",
      "|    0   N/A  N/A      8928    C+G   ...les\\Microsoft OneDrive\\OneDrive.exe    N/A      |\n",
      "|    0   N/A  N/A     10036    C+G   ...5n1h2txyewy\\ShellExperienceHost.exe    N/A      |\n",
      "|    0   N/A  N/A     10364    C+G   ....0_x64__kzh8wxbdkxb8p\\DCv2\\DCv2.exe    N/A      |\n",
      "|    0   N/A  N/A     13028    C+G   ...\\cef\\cef.win7x64\\steamwebhelper.exe    N/A      |\n",
      "|    0   N/A  N/A     13076    C+G   C:\\Windows\\explorer.exe                   N/A      |\n",
      "|    0   N/A  N/A     14204    C+G   ...les\\Elgato\\CameraHub\\Camera Hub.exe    N/A      |\n",
      "|    0   N/A  N/A     15496    C+G   ...oogle\\Chrome\\Application\\chrome.exe    N/A      |\n",
      "|    0   N/A  N/A     17072    C+G   ...ekyb3d8bbwe\\PhoneExperienceHost.exe    N/A      |\n",
      "|    0   N/A  N/A     17396    C+G   ...Programs\\Microsoft VS Code\\Code.exe    N/A      |\n",
      "|    0   N/A  N/A     17928    C+G   ...Desktop\\app-3.2.0\\GitHubDesktop.exe    N/A      |\n",
      "|    0   N/A  N/A     19660    C+G   ...siveControlPanel\\SystemSettings.exe    N/A      |\n",
      "|    0   N/A  N/A     24112    C+G   ....Search_cw5n1h2txyewy\\SearchApp.exe    N/A      |\n",
      "+---------------------------------------------------------------------------------------+\n"
     ]
    }
   ],
   "source": [
    "!nvidia-smi"
   ]
  },
  {
   "cell_type": "code",
   "execution_count": 2,
   "metadata": {},
   "outputs": [
    {
     "name": "stdout",
     "output_type": "stream",
     "text": [
      "Requirement already satisfied: pyproject.toml in c:\\users\\jihoon.desktop-1hibmqo\\appdata\\local\\packages\\pythonsoftwarefoundation.python.3.10_qbz5n2kfra8p0\\localcache\\local-packages\\python310\\site-packages (0.0.10)\n",
      "Requirement already satisfied: wheel in c:\\users\\jihoon.desktop-1hibmqo\\appdata\\local\\packages\\pythonsoftwarefoundation.python.3.10_qbz5n2kfra8p0\\localcache\\local-packages\\python310\\site-packages (from pyproject.toml) (0.40.0)\n",
      "Requirement already satisfied: toml in c:\\users\\jihoon.desktop-1hibmqo\\appdata\\local\\packages\\pythonsoftwarefoundation.python.3.10_qbz5n2kfra8p0\\localcache\\local-packages\\python310\\site-packages (from pyproject.toml) (0.10.2)\n",
      "Requirement already satisfied: jsonschema in c:\\users\\jihoon.desktop-1hibmqo\\appdata\\local\\packages\\pythonsoftwarefoundation.python.3.10_qbz5n2kfra8p0\\localcache\\local-packages\\python310\\site-packages (from pyproject.toml) (4.17.3)\n",
      "Requirement already satisfied: setuptools>=42 in c:\\program files\\windowsapps\\pythonsoftwarefoundation.python.3.10_3.10.2800.0_x64__qbz5n2kfra8p0\\lib\\site-packages (from pyproject.toml) (65.5.0)\n",
      "Requirement already satisfied: pyrsistent!=0.17.0,!=0.17.1,!=0.17.2,>=0.14.0 in c:\\users\\jihoon.desktop-1hibmqo\\appdata\\local\\packages\\pythonsoftwarefoundation.python.3.10_qbz5n2kfra8p0\\localcache\\local-packages\\python310\\site-packages (from jsonschema->pyproject.toml) (0.19.3)\n",
      "Requirement already satisfied: attrs>=17.4.0 in c:\\users\\jihoon.desktop-1hibmqo\\appdata\\local\\packages\\pythonsoftwarefoundation.python.3.10_qbz5n2kfra8p0\\localcache\\local-packages\\python310\\site-packages (from jsonschema->pyproject.toml) (22.2.0)\n"
     ]
    },
    {
     "name": "stderr",
     "output_type": "stream",
     "text": [
      "\n",
      "[notice] A new release of pip available: 22.3.1 -> 23.0.1\n",
      "[notice] To update, run: C:\\Users\\Jihoon.DESKTOP-1HIBMQO\\AppData\\Local\\Microsoft\\WindowsApps\\PythonSoftwareFoundation.Python.3.10_qbz5n2kfra8p0\\python.exe -m pip install --upgrade pip\n",
      "\n",
      "[notice] A new release of pip available: 22.3.1 -> 23.0.1\n",
      "[notice] To update, run: C:\\Users\\Jihoon.DESKTOP-1HIBMQO\\AppData\\Local\\Microsoft\\WindowsApps\\PythonSoftwareFoundation.Python.3.10_qbz5n2kfra8p0\\python.exe -m pip install --upgrade pip\n"
     ]
    }
   ],
   "source": [
    "! pip install pyproject.toml\n",
    "! pip install -q langchain gpt-index llama-index transformers sentence_transformers"
   ]
  },
  {
   "cell_type": "code",
   "execution_count": 3,
   "metadata": {},
   "outputs": [
    {
     "name": "stderr",
     "output_type": "stream",
     "text": [
      "C:\\Users\\Jihoon.DESKTOP-1HIBMQO\\AppData\\Local\\Packages\\PythonSoftwareFoundation.Python.3.10_qbz5n2kfra8p0\\LocalCache\\local-packages\\Python310\\site-packages\\tqdm\\auto.py:22: TqdmWarning: IProgress not found. Please update jupyter and ipywidgets. See https://ipywidgets.readthedocs.io/en/stable/user_install.html\n",
      "  from .autonotebook import tqdm as notebook_tqdm\n"
     ]
    }
   ],
   "source": [
    "from llama_index import SimpleDirectoryReader, LangchainEmbedding, GPTListIndex,GPTSimpleVectorIndex, PromptHelper\n",
    "from langchain.embeddings.huggingface import HuggingFaceEmbeddings\n",
    "from llama_index import LLMPredictor\n",
    "import torch\n",
    "from langchain.llms.base import LLM\n",
    "from transformers import pipeline"
   ]
  },
  {
   "cell_type": "code",
   "execution_count": 4,
   "metadata": {},
   "outputs": [],
   "source": [
    "class FlanLLM(LLM):\n",
    "    model_name = \"google/flan-t5-base\"\n",
    "    pipeline = pipeline(\"text2text-generation\", model=model_name, device=0, model_kwargs={\"torch_dtype\":torch.bfloat16})\n",
    "\n",
    "    def _call(self, prompt, stop=None):\n",
    "        return self.pipeline(prompt, max_length=9999)[0][\"generated_text\"]\n",
    " \n",
    "    def _identifying_params(self):\n",
    "        return {\"name_of_model\": self.model_name}\n",
    "\n",
    "    def _llm_type(self):\n",
    "        return \"custom\"\n",
    "\n",
    "\n",
    "llm_predictor = LLMPredictor(llm=FlanLLM())"
   ]
  },
  {
   "cell_type": "code",
   "execution_count": 5,
   "metadata": {},
   "outputs": [
    {
     "name": "stderr",
     "output_type": "stream",
     "text": [
      "INFO:sentence_transformers.SentenceTransformer:Load pretrained SentenceTransformer: sentence-transformers/all-mpnet-base-v2\n",
      "INFO:sentence_transformers.SentenceTransformer:Use pytorch device: cuda\n"
     ]
    }
   ],
   "source": [
    "hfemb = HuggingFaceEmbeddings()\n",
    "embed_model = LangchainEmbedding(hfemb)"
   ]
  },
  {
   "attachments": {},
   "cell_type": "markdown",
   "metadata": {},
   "source": [
    "## Import CTC product data "
   ]
  },
  {
   "cell_type": "code",
   "execution_count": 6,
   "metadata": {},
   "outputs": [],
   "source": [
    "import pandas as pd\n",
    "import numpy as np\n",
    "from llama_index import Document"
   ]
  },
  {
   "cell_type": "code",
   "execution_count": 7,
   "metadata": {},
   "outputs": [],
   "source": [
    "import logging\n",
    "\n",
    "logging.getLogger().setLevel(logging.CRITICAL)"
   ]
  },
  {
   "cell_type": "code",
   "execution_count": 8,
   "metadata": {},
   "outputs": [],
   "source": [
    "product_detail_detail_path = \"clean_data/cleaned_products_detailed.csv\"\n",
    "df_product_standard = pd.read_csv(product_detail_detail_path)\n",
    "df_detailed = df_product_standard[['ctr_product_num','attr_value_en_sentence']]\n",
    "df_detailed = df_detailed.dropna()\n",
    "df_detailed = df_detailed.drop_duplicates()\n",
    "df_detailed_subset = df_detailed.sample(frac=1)\n"
   ]
  },
  {
   "cell_type": "code",
   "execution_count": 9,
   "metadata": {},
   "outputs": [
    {
     "name": "stderr",
     "output_type": "stream",
     "text": [
      "C:\\Users\\Jihoon.DESKTOP-1HIBMQO\\AppData\\Local\\Temp\\ipykernel_23432\\271546728.py:7: SettingWithCopyWarning: \n",
      "A value is trying to be set on a copy of a slice from a DataFrame.\n",
      "Try using .loc[row_indexer,col_indexer] = value instead\n",
      "\n",
      "See the caveats in the documentation: https://pandas.pydata.org/pandas-docs/stable/user_guide/indexing.html#returning-a-view-versus-a-copy\n",
      "  df_right['ctr_product_num'] = pd.to_numeric(df_right['ctr_product_num'], errors='coerce')\n"
     ]
    }
   ],
   "source": [
    "path_standard = \"Data\\product\\product_standard_attributes.csv\" \n",
    "\n",
    "# put it in data farme\n",
    "df_product_standard = pd.read_csv(path_standard, low_memory=False) #lazyway to solve low memory issue\n",
    "df_right =df_product_standard[['ctr_product_num','merch_lob_nm','package_depth_qty','short_desc','package_height_qty','package_width_qty','package_volume_qty','package_weight_qty']]\n",
    "\n",
    "df_right['ctr_product_num'] = pd.to_numeric(df_right['ctr_product_num'], errors='coerce')\n",
    "df_right = df_right.dropna(subset=['ctr_product_num'])\n",
    "df_right['ctr_product_num'] = df_right['ctr_product_num'].astype('int')\n",
    "df_detailed_subset = df_detailed_subset.merge(df_right, on='ctr_product_num', how='left')"
   ]
  },
  {
   "cell_type": "code",
   "execution_count": 10,
   "metadata": {},
   "outputs": [
    {
     "data": {
      "text/html": [
       "<div>\n",
       "<style scoped>\n",
       "    .dataframe tbody tr th:only-of-type {\n",
       "        vertical-align: middle;\n",
       "    }\n",
       "\n",
       "    .dataframe tbody tr th {\n",
       "        vertical-align: top;\n",
       "    }\n",
       "\n",
       "    .dataframe thead th {\n",
       "        text-align: right;\n",
       "    }\n",
       "</style>\n",
       "<table border=\"1\" class=\"dataframe\">\n",
       "  <thead>\n",
       "    <tr style=\"text-align: right;\">\n",
       "      <th></th>\n",
       "      <th>ctr_product_num</th>\n",
       "      <th>attr_value_en_sentence</th>\n",
       "      <th>merch_lob_nm</th>\n",
       "      <th>package_depth_qty</th>\n",
       "      <th>short_desc</th>\n",
       "      <th>package_height_qty</th>\n",
       "      <th>package_width_qty</th>\n",
       "      <th>package_volume_qty</th>\n",
       "      <th>package_weight_qty</th>\n",
       "    </tr>\n",
       "  </thead>\n",
       "  <tbody>\n",
       "    <tr>\n",
       "      <th>0</th>\n",
       "      <td>751171</td>\n",
       "      <td>Features and Benefits not loaded</td>\n",
       "      <td>HUNTING</td>\n",
       "      <td>3.4</td>\n",
       "      <td>FED, 270 130GR TT+</td>\n",
       "      <td>6.1</td>\n",
       "      <td>1.2</td>\n",
       "      <td>0.014403</td>\n",
       "      <td>1.300</td>\n",
       "    </tr>\n",
       "    <tr>\n",
       "      <th>1</th>\n",
       "      <td>468412</td>\n",
       "      <td>Features and Benefits not loaded</td>\n",
       "      <td>TOOLS</td>\n",
       "      <td>6.5</td>\n",
       "      <td>HANDY HOOK, BULK</td>\n",
       "      <td>5.0</td>\n",
       "      <td>14.5</td>\n",
       "      <td>0.007575</td>\n",
       "      <td>0.247</td>\n",
       "    </tr>\n",
       "    <tr>\n",
       "      <th>2</th>\n",
       "      <td>195506</td>\n",
       "      <td>Features and Benefits not loaded</td>\n",
       "      <td>HEAVY AUTO PARTS</td>\n",
       "      <td>11.5</td>\n",
       "      <td>17107 3YR STARTER</td>\n",
       "      <td>7.0</td>\n",
       "      <td>4.5</td>\n",
       "      <td>0.209635</td>\n",
       "      <td>9.000</td>\n",
       "    </tr>\n",
       "    <tr>\n",
       "      <th>3</th>\n",
       "      <td>519587</td>\n",
       "      <td>Features and Benefits not loaded</td>\n",
       "      <td>SEASONAL</td>\n",
       "      <td>16.0</td>\n",
       "      <td>GLASS 4PK PINECONE</td>\n",
       "      <td>14.0</td>\n",
       "      <td>16.0</td>\n",
       "      <td>0.086420</td>\n",
       "      <td>0.273</td>\n",
       "    </tr>\n",
       "    <tr>\n",
       "      <th>4</th>\n",
       "      <td>1759506</td>\n",
       "      <td>6 PANELSBONE COLLECTOR LOGOPROSTITCH VISORPLAS...</td>\n",
       "      <td>HUNTING</td>\n",
       "      <td>15.0</td>\n",
       "      <td>HAT-CTC BAZE</td>\n",
       "      <td>23.0</td>\n",
       "      <td>32.0</td>\n",
       "      <td>0.044367</td>\n",
       "      <td>0.250</td>\n",
       "    </tr>\n",
       "    <tr>\n",
       "      <th>...</th>\n",
       "      <td>...</td>\n",
       "      <td>...</td>\n",
       "      <td>...</td>\n",
       "      <td>...</td>\n",
       "      <td>...</td>\n",
       "      <td>...</td>\n",
       "      <td>...</td>\n",
       "      <td>...</td>\n",
       "      <td>...</td>\n",
       "    </tr>\n",
       "    <tr>\n",
       "      <th>657530</th>\n",
       "      <td>6831350</td>\n",
       "      <td>Na</td>\n",
       "      <td>HOCKEY</td>\n",
       "      <td>1.0</td>\n",
       "      <td>RECODED TO 4831659</td>\n",
       "      <td>1.0</td>\n",
       "      <td>1.0</td>\n",
       "      <td>0.000579</td>\n",
       "      <td>1.000</td>\n",
       "    </tr>\n",
       "    <tr>\n",
       "      <th>657531</th>\n",
       "      <td>521463</td>\n",
       "      <td>Stelpro is a new brand to CT for fall 2019, re...</td>\n",
       "      <td>HOME ENVIRONMENT</td>\n",
       "      <td>5.0</td>\n",
       "      <td>ST OASIS</td>\n",
       "      <td>16.6</td>\n",
       "      <td>12.4</td>\n",
       "      <td>0.595296</td>\n",
       "      <td>9.500</td>\n",
       "    </tr>\n",
       "    <tr>\n",
       "      <th>657532</th>\n",
       "      <td>1330683</td>\n",
       "      <td>Features and Benefits not loaded</td>\n",
       "      <td>GARDENING</td>\n",
       "      <td>0.4</td>\n",
       "      <td>OAK REGAL PRINCE 1G</td>\n",
       "      <td>0.4</td>\n",
       "      <td>0.4</td>\n",
       "      <td>0.000035</td>\n",
       "      <td>2.204</td>\n",
       "    </tr>\n",
       "    <tr>\n",
       "      <th>657533</th>\n",
       "      <td>1421559</td>\n",
       "      <td>Quick drying cloth material Cloths are lint fr...</td>\n",
       "      <td>CLEANING</td>\n",
       "      <td>19.3</td>\n",
       "      <td>FRANK AP REUSABLE TW</td>\n",
       "      <td>14.6</td>\n",
       "      <td>12.8</td>\n",
       "      <td>0.172810</td>\n",
       "      <td>1.100</td>\n",
       "    </tr>\n",
       "    <tr>\n",
       "      <th>657534</th>\n",
       "      <td>179417</td>\n",
       "      <td>Features and Benefits not loaded</td>\n",
       "      <td>LIGHT AUTO PARTS</td>\n",
       "      <td>4.8</td>\n",
       "      <td>FB86 AIR BREATHER</td>\n",
       "      <td>7.0</td>\n",
       "      <td>8.1</td>\n",
       "      <td>0.013125</td>\n",
       "      <td>0.078</td>\n",
       "    </tr>\n",
       "  </tbody>\n",
       "</table>\n",
       "<p>657535 rows × 9 columns</p>\n",
       "</div>"
      ],
      "text/plain": [
       "        ctr_product_num                             attr_value_en_sentence  \\\n",
       "0                751171                   Features and Benefits not loaded   \n",
       "1                468412                   Features and Benefits not loaded   \n",
       "2                195506                   Features and Benefits not loaded   \n",
       "3                519587                   Features and Benefits not loaded   \n",
       "4               1759506  6 PANELSBONE COLLECTOR LOGOPROSTITCH VISORPLAS...   \n",
       "...                 ...                                                ...   \n",
       "657530          6831350                                                 Na   \n",
       "657531           521463  Stelpro is a new brand to CT for fall 2019, re...   \n",
       "657532          1330683                   Features and Benefits not loaded   \n",
       "657533          1421559  Quick drying cloth material Cloths are lint fr...   \n",
       "657534           179417                   Features and Benefits not loaded   \n",
       "\n",
       "            merch_lob_nm  package_depth_qty            short_desc  \\\n",
       "0                HUNTING                3.4    FED, 270 130GR TT+   \n",
       "1                  TOOLS                6.5      HANDY HOOK, BULK   \n",
       "2       HEAVY AUTO PARTS               11.5     17107 3YR STARTER   \n",
       "3               SEASONAL               16.0    GLASS 4PK PINECONE   \n",
       "4                HUNTING               15.0          HAT-CTC BAZE   \n",
       "...                  ...                ...                   ...   \n",
       "657530            HOCKEY                1.0    RECODED TO 4831659   \n",
       "657531  HOME ENVIRONMENT                5.0              ST OASIS   \n",
       "657532         GARDENING                0.4   OAK REGAL PRINCE 1G   \n",
       "657533          CLEANING               19.3  FRANK AP REUSABLE TW   \n",
       "657534  LIGHT AUTO PARTS                4.8     FB86 AIR BREATHER   \n",
       "\n",
       "        package_height_qty  package_width_qty  package_volume_qty  \\\n",
       "0                      6.1                1.2            0.014403   \n",
       "1                      5.0               14.5            0.007575   \n",
       "2                      7.0                4.5            0.209635   \n",
       "3                     14.0               16.0            0.086420   \n",
       "4                     23.0               32.0            0.044367   \n",
       "...                    ...                ...                 ...   \n",
       "657530                 1.0                1.0            0.000579   \n",
       "657531                16.6               12.4            0.595296   \n",
       "657532                 0.4                0.4            0.000035   \n",
       "657533                14.6               12.8            0.172810   \n",
       "657534                 7.0                8.1            0.013125   \n",
       "\n",
       "        package_weight_qty  \n",
       "0                    1.300  \n",
       "1                    0.247  \n",
       "2                    9.000  \n",
       "3                    0.273  \n",
       "4                    0.250  \n",
       "...                    ...  \n",
       "657530               1.000  \n",
       "657531               9.500  \n",
       "657532               2.204  \n",
       "657533               1.100  \n",
       "657534               0.078  \n",
       "\n",
       "[657535 rows x 9 columns]"
      ]
     },
     "execution_count": 10,
     "metadata": {},
     "output_type": "execute_result"
    }
   ],
   "source": [
    "df_detailed_subset"
   ]
  },
  {
   "cell_type": "code",
   "execution_count": 11,
   "metadata": {},
   "outputs": [],
   "source": [
    "#df_right =df_product_standard[['ctr_product_num','merch_lob_nm','package_depth_qty','short_desc','package_height_qty','package_width_qty','package_volume_qty','package_weight_qty']]\n",
    "\n",
    "\n",
    "docLabels = []\n",
    "# getting all the names of all json files\n",
    "docLabels = [f for f in df_detailed_subset['package_depth_qty']]\n",
    "\n",
    "sdecLabels = []\n",
    "# getting all the names of all json files\n",
    "sdecLabels = [f for f in df_detailed_subset['short_desc']]\n",
    "\n",
    "subCatLabels = []\n",
    "# getting all the names of all json files\n",
    "subCatLabels = [f for f in df_detailed_subset['package_height_qty']]\n",
    "widthLabels = [f for f in df_detailed_subset['package_width_qty']]\n",
    "volumnLabels = [f for f in df_detailed_subset['package_volume_qty']]\n",
    "weightLabels = [f for f in df_detailed_subset['package_weight_qty']]"
   ]
  },
  {
   "cell_type": "code",
   "execution_count": 12,
   "metadata": {},
   "outputs": [],
   "source": [
    "data = []\n",
    "j = 0\n",
    "for i, row in df_detailed_subset.iterrows():\n",
    "    #print(row['attr_value_en_sentence'])\n",
    "    #data.append(row['attr_value_en_sentence'].split())\n",
    "    output = 'package depth is ' + str(docLabels[j]) + '. ' + 'name of the product is ' + str(sdecLabels[j]) + '. ' + 'package height is ' + str(subCatLabels[j]) + '. '+'package width is ' + str(widthLabels[j]) + '. '+'package volumn is ' + str(volumnLabels[j]) + '. ' +'package weight is ' + str(weightLabels[j]) + '. ' + 'full description is ' + str(row['attr_value_en_sentence'] + '. ')\n",
    "    data.append(output)\n",
    "    j+=1"
   ]
  },
  {
   "cell_type": "code",
   "execution_count": 13,
   "metadata": {},
   "outputs": [],
   "source": [
    "documents = [Document(t) for t in data]"
   ]
  },
  {
   "cell_type": "code",
   "execution_count": 14,
   "metadata": {},
   "outputs": [],
   "source": [
    "test_documents = documents[:50]"
   ]
  },
  {
   "cell_type": "code",
   "execution_count": 15,
   "metadata": {},
   "outputs": [],
   "source": [
    "# set number of output tokens\n",
    "num_output = 250\n",
    "# set maximum input size\n",
    "max_input_size = 512\n",
    "# set maximum chunk overlap\n",
    "max_chunk_overlap = 20\n",
    "\n",
    "\n",
    "prompt_helper = PromptHelper(max_input_size, num_output, max_chunk_overlap)"
   ]
  },
  {
   "cell_type": "code",
   "execution_count": 16,
   "metadata": {},
   "outputs": [],
   "source": [
    "import logging\n",
    "\n",
    "logging.getLogger().setLevel(logging.CRITICAL)"
   ]
  },
  {
   "cell_type": "code",
   "execution_count": 17,
   "metadata": {},
   "outputs": [],
   "source": [
    "#index = GPTSimpleVectorIndex(documents, embed_model=embed_model, llm_predictor=llm_predictor)\n",
    "\n",
    "index = GPTListIndex(test_documents, embed_model=embed_model, llm_predictor=llm_predictor)\n",
    "\n",
    "#index.save_to_disk('index.json')"
   ]
  },
  {
   "cell_type": "code",
   "execution_count": 18,
   "metadata": {},
   "outputs": [
    {
     "data": {
      "text/plain": [
       "[Document(text='package depth is 3.4. name of the product is FED, 270 130GR TT+. package height is 6.1. package width is 1.2. package volumn is 0.014403. package weight is 1.3. full description is Features and Benefits not loaded. ', doc_id='157365b7-2a90-4d86-a2f3-a93cc2f25fb7', embedding=None, doc_hash='9d6655e86426e651beae5cb95b1108cd88b6c88d631cbe78cf63924f527894bc', extra_info=None),\n",
       " Document(text='package depth is 6.5. name of the product is HANDY HOOK, BULK. package height is 5.0. package width is 14.5. package volumn is 0.007575. package weight is 0.247. full description is Features and Benefits not loaded. ', doc_id='a465c143-af9e-4f5c-9999-c669406efa1b', embedding=None, doc_hash='090ddcf001638522dd2fe516014026afabcf6ed9a878e6cb0f2a301dfc2ef773', extra_info=None),\n",
       " Document(text='package depth is 11.5. name of the product is 17107 3YR STARTER. package height is 7.0. package width is 4.5. package volumn is 0.209635. package weight is 9.0. full description is Features and Benefits not loaded. ', doc_id='714c9a8a-4ac2-4fe0-bff3-86cca98fabc0', embedding=None, doc_hash='33002b8a8ca8e5dc032ac41b39c0041c58d75e22ed2cdf02bc3ecadc4c2f51f0', extra_info=None),\n",
       " Document(text='package depth is 16.0. name of the product is GLASS 4PK PINECONE. package height is 14.0. package width is 16.0. package volumn is 0.08642. package weight is 0.273. full description is Features and Benefits not loaded. ', doc_id='c4a98e7b-fd7d-4771-acd2-267e4fd235b5', embedding=None, doc_hash='66b2472af9a23965610b2e0cb6180feebd865e691db0376f49c055119162cc00', extra_info=None),\n",
       " Document(text='package depth is 15.0. name of the product is HAT-CTC BAZE. package height is 23.0. package width is 32.0. package volumn is 0.044367. package weight is 0.25. full description is 6 PANELSBONE COLLECTOR LOGOPROSTITCH VISORPLASTIC SNAP CLOSURE. ', doc_id='687f1209-a216-4a9a-bd54-830fce33214c', embedding=None, doc_hash='51bce4f74aec6135dd318e6b117bf643c7234e284602577c471c4a85eacc09b9', extra_info=None),\n",
       " Document(text='package depth is 4.3. name of the product is S9007 PWR SEAT SW. package height is 4.3. package width is 3.4. package volumn is 0.035958. package weight is 0.18. full description is Features and Benefits not loaded. ', doc_id='8a13324d-dcdc-4d30-8e52-4a2ec2df5be6', embedding=None, doc_hash='d13ca8d7010ea4f50a2d848dedf89b4226986f9aa5e23853f7554abb985b3f8c', extra_info=None),\n",
       " Document(text='package depth is 18.6. name of the product is WT324 COOL TMP SEN. package height is 12.8. package width is 11.3. package volumn is 0.004295. package weight is 0.09. full description is Features and Benefits not loaded. ', doc_id='98e199c9-1649-4ad3-b72d-6b93aaaa1e93', embedding=None, doc_hash='49dc3eee0774fd970cabe96c1700463fb9bc25a021f97560599f64fae1f546e6', extra_info=None),\n",
       " Document(text=\"package depth is 13.0. name of the product is 12' ABLWN REAPER. package height is 14.5. package width is 24.5. package volumn is 1.336299. package weight is 9.85. full description is Lights up and self inflates in secondsStakes and tethers includedPlugs in to standard outlet. \", doc_id='c7a81c27-3544-4395-85c7-679eebd3d666', embedding=None, doc_hash='d108286e11497226ed59b77d936a80ac78b658ef4c8d832f39db2be886017e78', extra_info=None),\n",
       " Document(text='package depth is 1.0. name of the product is BK WASP TRAP. package height is 1.0. package width is 1.0. package volumn is 0.000579. package weight is 1.0. full description is Na. ', doc_id='f3354731-cba4-4553-bf35-0df59dce494d', embedding=None, doc_hash='b431fba0d2ce3bdb6b472da436420c36e7649d7aea45db96060416f58706d272', extra_info=None),\n",
       " Document(text=\"package depth is 8.0. name of the product is 40851 WEATHERTECH. package height is 55.1. package width is 8.0. package volumn is 2.037327. package weight is 8.002. full description is Provides complete trunk and cargo area protectionDigitally designed with a raised lip to trap and contain spills, dirt, and grease away from your vehicle's interiorFeatures a textured surface to help prevent cargo from shiftingMade in America. \", doc_id='b2cfe727-73eb-4784-8f8f-6455903a7e09', embedding=None, doc_hash='ee3fa9db7692c7aa8a6140ef9e4bfcd72a071e4de003e1794eaedc1d61f1df44', extra_info=None),\n",
       " Document(text='package depth is 4.0. name of the product is RUG31X47RANCH,SOFTPI. package height is 4.0. package width is 32.0. package volumn is 0.296296. package weight is 3.0. full description is Features and Benefits not loaded. ', doc_id='e7f319e5-73de-4748-8872-54c82921285c', embedding=None, doc_hash='b04cfeb2e685eaa04cda5976060c47efe95e22200c0463e44e4a2678e76814e0', extra_info=None),\n",
       " Document(text='package depth is 1.0. name of the product is SHE-RA SWORD. package height is 1.0. package width is 1.0. package volumn is 0.000579. package weight is 1.0. full description is Feature 1Feature 2Feature 3. ', doc_id='2fdf93a3-cc67-4b3c-8813-1aa2e19a36db', embedding=None, doc_hash='134774904a42b1998eb761ebc4afa0c7c18e9443bbbd95988257590c97b95e5a', extra_info=None),\n",
       " Document(text='package depth is 24.0. name of the product is VS50090R VL CVR GSK. package height is 0.5. package width is 8.0. package volumn is 0.055556. package weight is 1.0. full description is Features and Benefits not loaded. ', doc_id='b1a38d7a-a0e1-4764-a84c-179aebf125e5', embedding=None, doc_hash='66bda9264e77c0d3ce2139876b259ede65a84690b7d5525b9131121750ba3053', extra_info=None),\n",
       " Document(text='package depth is 8.5. name of the product is PNK HEADBAND BUNNY S. package height is 4.4. package width is 11.0. package volumn is 0.02976. package weight is 0.342. full description is Feature 1Feature 2Feature 3. ', doc_id='a8051621-1279-4e05-a83a-88d805e691e7', embedding=None, doc_hash='6acca958742d7568d25599222545bcef0c116777210a84df7ee7142ebc88db6b', extra_info=None),\n",
       " Document(text='package depth is 5.3. name of the product is ES2010R TIE ROD. package height is 3.3. package width is 4.8. package volumn is 0.048583. package weight is 1.55. full description is Features and Benefits not loaded. ', doc_id='a4ab9514-5de8-45a0-a405-aada4500f4fe', embedding=None, doc_hash='06214cbb2e0acc0370f72f88e24882e35c144c57e488ad9e7722239729975797', extra_info=None),\n",
       " Document(text='package depth is 49.0. name of the product is 13061 HITCHES - TRAI. package height is 13.0. package width is 28.0. package volumn is 10.321759. package weight is 35.999. full description is Rated to 8000 lbs. gross trailer weight and 800 lbs. tongue weight Compatible with weight distribution hitch Engineered with a vehicle-specific design Protected by black powder coat and rust-resistant liquid Equipped with open-back. ', doc_id='c1acfde9-115d-4bed-80ae-0dc112772bd6', embedding=None, doc_hash='c1085ea93d491c6f21762b12d0e55b0232ebe49b48169cbcef02f880cbb5a7c0', extra_info=None),\n",
       " Document(text=\"package depth is 48.0. name of the product is MB GRVY BNS HLF PLT. package height is 56.5. package width is 20.0. package volumn is 31.388889. package weight is 389.0. full description is Comes with 45 units of 0428732Gravy Bones are delicious, nutritious treat that are gravy-basted in a bone-shaped biscuitTheir hard and crunchy consistency freshens breath and cleans your dog's teeth. \", doc_id='7df43ed0-af22-4256-bf4a-6f261ab6c9d3', embedding=None, doc_hash='5ec80876fcd64bd6ae8c9450f5197ccced2a731ecdc22653c730be81b7912f07', extra_info=None),\n",
       " Document(text='package depth is 9.0. name of the product is ULTRA BRS. 3\" PULL. package height is 6.3. package width is 22.5. package volumn is 0.002953. package weight is 0.125. full description is Features and Benefits not loaded. ', doc_id='c4f525f9-33fd-49ab-8799-e63dffe08633', embedding=None, doc_hash='074be779c1a8fdc9149bdc7427239bec067e02f265573bebbac9ff5e5e140473', extra_info=None),\n",
       " Document(text='package depth is 9.2. name of the product is METH GLAS RFL MNT 2L. package height is 11.3. package width is 13.5. package volumn is 0.135365. package weight is 4.773. full description is Method Mint Glass and Surface Cleaner Refill provides ammonia-free, plant-based PowerGreen technology that eliminates dirt and dust for a streak free shineFormula is non-toxic and biodegradableRefill bottle easily dispenses to replenish your existing bottle 2.5 timesMint fragrance is an invigorating aroma of cool, crisp peppermint with an accent of eucalyptus leavesSize: 2 L (68 fl. oz). ', doc_id='41d86c0e-1da5-4991-b7c6-0998dfe565eb', embedding=None, doc_hash='d5b889fb3fc4d722ab0c46cb7f596106a692c81664c0f317da05a1808bbaf196', extra_info=None),\n",
       " Document(text='package depth is 12.0. name of the product is 11416 BLK HT FRST PL. package height is 6.0. package width is 12.0. package volumn is 0.041667. package weight is 0.5. full description is Features and Benefits not loaded. ', doc_id='7be4e3e4-d723-4b34-bda4-d215e5086ffc', embedding=None, doc_hash='457ac3928f34ba91fd8456b7d5011c8e7578b03947123b062acd2ef4f2cfdb04', extra_info=None),\n",
       " Document(text='package depth is 24.0. name of the product is 4819 EVOLUTION WPR. package height is 3.0. package width is 5.0. package volumn is 0.041667. package weight is 0.92. full description is Features and Benefits not loaded. ', doc_id='48b7d9b0-4397-45f3-b008-aba02ca42550', embedding=None, doc_hash='07e4a4ab3a2781418483531af7f227e74eca943d52417b6899f8ee4e400c012d', extra_info=None),\n",
       " Document(text='package depth is 0.0. name of the product is ELITE 2.5-10X40. package height is 0.0. package width is 0.0. package volumn is 1e-06. package weight is 0.023. full description is Features and Benefits not loaded. ', doc_id='1afac3da-4f50-4961-9118-43f8e42dda28', embedding=None, doc_hash='4e05d0ed760f5db7932a302ce236432c8c6ef91d40d5505b9ca1e7d638e166b9', extra_info=None),\n",
       " Document(text='package depth is 1.0. name of the product is REM CF 300WM 24 SYN. package height is 1.0. package width is 1.0. package volumn is 0.000579. package weight is 1.0. full description is Features and Benefits not loaded. ', doc_id='25cbd6a2-9440-490d-acfe-5fa0ab2d2fe6', embedding=None, doc_hash='63bb457fa8d399a924c38733c8a5eaaf067885591bd772b831bc58c0f16d2be1', extra_info=None),\n",
       " Document(text='package depth is 16.3. name of the product is SPA FILTER ELITE SPA. package height is 15.5. package width is 26.3. package volumn is 0.318852. package weight is 1.708. full description is Features and Benefits not loaded. ', doc_id='49f40618-7b37-40cd-bf74-2e3c6103ace2', embedding=None, doc_hash='1586b24798063fb7bc7b46d959e25a53a178a83b39d278fa201baadfab5ebabe', extra_info=None),\n",
       " Document(text='package depth is 1.0. name of the product is RECODED TO 6500663. package height is 1.0. package width is 1.0. package volumn is 0.000579. package weight is 1.0. full description is na. ', doc_id='298fce16-bceb-473b-b05c-184258500566', embedding=None, doc_hash='041b62f6b4b5c61422bef3d78c738888a55bc135f0e1adfa0511cca123dcf7a5', extra_info=None),\n",
       " Document(text='package depth is 1.0. name of the product is WCS MUG,SHH. package height is 1.0. package width is 1.0. package volumn is 0.000579. package weight is 1.0. full description is Na. ', doc_id='780e3b51-5337-402e-a7b8-5b78ba8909ae', embedding=None, doc_hash='b3bd1cb899938c7f7c420c1c35386473401cafb5012affea49903cc9af84d7b2', extra_info=None),\n",
       " Document(text='package depth is 9.0. name of the product is PNTBLLSCRYPTIC500CT. package height is 5.5. package width is 11.0. package volumn is 0.157552. package weight is 4.05. full description is Features and Benefits not loaded. ', doc_id='58c3f2d2-0808-47d1-8f8d-251e1b40e3f7', embedding=None, doc_hash='59eab37e1ba8f12814771bf4fa587a04bec46ea1ff39070055697c345e433cc4', extra_info=None),\n",
       " Document(text='package depth is 5.0. name of the product is BRK TRL XL GRN 12LB. package height is 2.0. package width is 9.3. package volumn is 0.013383. package weight is 0.155. full description is Features and Benefits not loaded. ', doc_id='70499414-8a8e-4953-b537-ca2d796074f9', embedding=None, doc_hash='6c664a3e7794bac5983099d7c0a94b5762165fafe8abc286a9d87d6f4de060b3', extra_info=None),\n",
       " Document(text='package depth is 0.0. name of the product is YFX JSY SJ TL/OR/B S. package height is 0.0. package width is 0.0. package volumn is 1e-06. package weight is 0.023. full description is Features and Benefits not loaded. ', doc_id='dfcbd168-a50e-4a7b-aee0-ca1320fa874c', embedding=None, doc_hash='d6ab5094ea07547132735ebaf98a6f3b51e494c3bdf4f6d16529b423d8f89b5c', extra_info=None),\n",
       " Document(text='package depth is 25.4. name of the product is CONJURING 32OZ CUP. package height is 17.3. package width is 17.3. package volumn is 0.015712. package weight is 0.127. full description is These Conjuring-themed plastic cups are perfect for your creepy celebration32ozUse them for drinks or fill them up with treats. ', doc_id='6b0bde31-d2f6-43d0-931d-44be121e90b8', embedding=None, doc_hash='6b420aff56ed00239acf754fb89cee1eb3487bc6b0df54da81a7ea055e275085', extra_info=None),\n",
       " Document(text='package depth is 19.0. name of the product is 695-7861C MOMA WHEEL. package height is 9.0. package width is 19.0. package volumn is 1.880208. package weight is 29.101. full description is Features and Benefits not loaded. ', doc_id='5cc0ceb6-acb1-4994-9c81-6f7e0bf547cb', embedding=None, doc_hash='fda48aa7c301ebeb6375466df1855a6795310baec83f6a1130f541af78716a89', extra_info=None),\n",
       " Document(text='package depth is 5.9. name of the product is ARCTIC.20G 2100CTBBS. package height is 8.1. package width is 8.3. package volumn is 0.037983. package weight is 1.042. full description is Features and Benefits not loaded. ', doc_id='f88fd4a6-5b48-4732-bf06-e18451e0b290', embedding=None, doc_hash='794e8bc687ac1fa4fbe74aff73fda360435d578f340123c81a664b9f76c9d4fe', extra_info=None),\n",
       " Document(text='package depth is 8.2. name of the product is PS PARKING SIGN. package height is 1.0. package width is 13.8. package volumn is 0.016165. package weight is 0.22. full description is Features and Benefits not loaded. ', doc_id='1673c292-0dfc-4574-b83e-7bee88c88a6d', embedding=None, doc_hash='b8ba52125be76812803f06126d78f41cbd85d0fba47bbfe603f062f2e461bcc3', extra_info=None),\n",
       " Document(text='package depth is 6.0. name of the product is 1K0505465K STABILIZE. package height is 2.0. package width is 3.5. package volumn is 0.024306. package weight is 1.0. full description is Dealers features and benefits not loaded. ', doc_id='2d480157-4dd8-42e2-a2e2-2b876dbb8334', embedding=None, doc_hash='0628bf9737afa2e4548fb9249a0cd05f0f4d01c5f7b2e9fcf7977a9e068cebbe', extra_info=None),\n",
       " Document(text='package depth is 24.8. name of the product is P195/70R14 90T ASSU. package height is 7.7. package width is 24.8. package volumn is 2.74063. package weight is 1.0. full description is Features and Benefits not loaded. ', doc_id='6d5eebd5-37ca-41b7-8702-1671c805d005', embedding=None, doc_hash='2b01adf7e4f977f2cc40f56ee24e10ecb8bf5a7f6c5ff4eae9c0e0312edfb930', extra_info=None),\n",
       " Document(text='package depth is 16.0. name of the product is LYSOL BATHCLEANER. package height is 12.1. package width is 13.3. package volumn is 0.124174. package weight is 2.625. full description is Features and Benefits not loaded. ', doc_id='75fb7115-1b30-460f-b41b-d926d415e104', embedding=None, doc_hash='244b3841c25a0881ce3edb6de379dcf4542fe9eef3182b94b0fab62c694b4340', extra_info=None),\n",
       " Document(text='package depth is 6.4. name of the product is 29052 AIR FLO SNSR. package height is 7.1. package width is 2.0. package volumn is 0.052572. package weight is 1.0. full description is Features and Benefits not loaded. ', doc_id='627a24cf-2aec-422e-9ddf-a183458dbaf1', embedding=None, doc_hash='f765894878b8c37d19b7b0dde102d1e5eeaa32d56bba0f0b28c1f7beb04712c6', extra_info=None),\n",
       " Document(text='package depth is 18.8. name of the product is )2.5OZ EMBOSSD CNFET. package height is 9.7. package width is 15.9. package volumn is 0.011653. package weight is 1.55. full description is This Embossed Maroon Confetti is perfect for decorating tablesGreat way in showing off your school colours2.5 oz. ', doc_id='58279113-7f76-4677-b240-b87980ff1e19', embedding=None, doc_hash='f1ab1fa227563b26c072060db959359e647d9deff0fc21e73062b4e6e8199325', extra_info=None),\n",
       " Document(text='package depth is 39.0. name of the product is CU774 RADIATOR. package height is 9.5. package width is 18.5. package volumn is 3.96658. package weight is 28.1. full description is Features and Benefits not loaded. ', doc_id='c27052e5-e3c3-4570-a586-cc89dc286a18', embedding=None, doc_hash='33bd5252780d4019855054e5d92817faf761274e79f38842d77b49dcc6ea31f3', extra_info=None),\n",
       " Document(text=\"package depth is 11.0. name of the product is 2CT SCN STTR GLITZ. package height is 11.1. package width is 15.5. package volumn is 0.011434. package weight is 0.294. full description is Transform plain walls into a star-studded scene with a Hollywood Scene Setter! Featuring elegant art deco patterns, gold stars, and spotlight designs, this set of two single-sided plastic posters makes a perfect photo backdropUse these posters at your Hollywood party, 20s-themed affair, or a New Year's Eve eventMeasures 65in x 65in when assembledHollywood Scene Setter includes:2 per package32 1/2in wide x 65in tallPlastic. \", doc_id='61cf258d-2c67-46b3-8d8c-d5d2f7ff9d14', embedding=None, doc_hash='0348dcd865feb814682b665142d2d742010629529aa4e688f3f1132bd3498731', extra_info=None),\n",
       " Document(text='package depth is 1.0. name of the product is MOS SG-PP 12G 28 SYN. package height is 1.0. package width is 1.0. package volumn is 0.000579. package weight is 1.0. full description is Features and Benefits not loaded. ', doc_id='89306461-57c3-4324-ba80-2252afbe81da', embedding=None, doc_hash='cc075ee4c14a8a88941a75249543d2935d8a65cffc4341c5bebbd8a84d6e1e97', extra_info=None),\n",
       " Document(text='package depth is 25.5. name of the product is 215/50R17 95V. package height is 25.5. package width is 8.9. package volumn is 3.349089. package weight is 102.697. full description is Tire. ', doc_id='22a6f2d8-6335-475c-a798-c95c24188da9', embedding=None, doc_hash='3edd2b16ae6240884f800eaf6dcb2d564dcea2afd4d657281a987154dabd773d', extra_info=None),\n",
       " Document(text='package depth is 10.2. name of the product is C01797 BRK ROTOR. package height is 1.6. package width is 10.3. package volumn is 0.097278. package weight is 11.65. full description is Features and Benefits not loaded. ', doc_id='8d4f73d4-8e3b-4dd5-ae25-e9f50ef43ae3', embedding=None, doc_hash='dd474839708779ad997d1c2c7a3472dc2e3ca076ca5ba8d0ea320d1808a8079a', extra_info=None),\n",
       " Document(text='package depth is 12.0. name of the product is SLIDE,ADI DR BLU,M12. package height is 14.0. package width is 26.5. package volumn is 0.257639. package weight is 1.222. full description is Features and Benefits not loaded. ', doc_id='d1eaf3b2-e4fb-4414-b7ef-d5977844c812', embedding=None, doc_hash='7bfccdb6110c80a4cf3ab4525bf4534a9045403b43a1d07515a4bbdb993f9cbc', extra_info=None),\n",
       " Document(text='package depth is 20.0. name of the product is WOMENS SUEDE  7. package height is 13.8. package width is 30.6. package volumn is 0.406148. package weight is 2.104. full description is SUEDE UPPER WITH WOOL LINING INDOOR OUTDOOR OUTSOLE. ', doc_id='dcead93a-59e5-4f3c-a302-aa8e790d915f', embedding=None, doc_hash='f26ddca6fe63cd053b06e114757a99a90be8d0d46b24a33fdd6a4375cea7b69d', extra_info=None),\n",
       " Document(text='package depth is 84.7. name of the product is CABANA GAZEBO. package height is 7.9. package width is 22.4. package volumn is 8.651674. package weight is 122.239. full description is Online Only. ', doc_id='a68ae838-9e64-4b2d-89ac-af8b4d14a4d0', embedding=None, doc_hash='ce92f600a3f8525b850071e3e82b89f33652a9b7eb5e0391957e86dd088571ed', extra_info=None),\n",
       " Document(text='package depth is 15.0. name of the product is A10200 ECONOMY PADS. package height is 6.1. package width is 7.3. package volumn is 0.038477. package weight is 1.676. full description is Features and benefits not loaded. ', doc_id='d541231d-e744-4061-8c07-3954d17f32e6', embedding=None, doc_hash='ca3d704a788ba15918242e91c5937e34862d5cb101129b2c1b103aa0117dd924', extra_info=None),\n",
       " Document(text='package depth is 41.0. name of the product is CLASS 2 HTCH 1-1/4\". package height is 8.0. package width is 18.0. package volumn is 3.416667. package weight is 37.999. full description is Rated to 3,500 lbs. gross trailer weight and 350 lbs. tongue weightEngineered with a vehicle-specific design for a custom fitConcealed main body for OE look and seamless integration with the vehicleTested for safety in accordance with SAE J684Precisely welded for superior strength and fitProtected by a durable high-gloss black powder coat finishCo-cured in a rust-resistant liquid Bonderite coatingEquipped with an open-back receiver for easy cleaningLimited lifetime warranty (one-year finish, one-year parts)Made in USA (may include imported hardware). ', doc_id='4a4ab19b-ae62-49f8-8e3a-adb680836939', embedding=None, doc_hash='5fe61c1a56f632c7e2a112e2f8426148e426ad8a347f3bc5536a6301311c7f0b', extra_info=None),\n",
       " Document(text='package depth is 29.0. name of the product is 255/50R19 103W SPCO5. package height is 10.0. package width is 29.0. package volumn is 4.891604. package weight is 30.298. full description is Features and Benefits not loaded. ', doc_id='928d8f9a-9d13-45bf-b352-530f2a9a8b3e', embedding=None, doc_hash='0941f2fd85c5d774e7771188afa7174cfa50e92ad2cdc3a00bcace964ad214f5', extra_info=None),\n",
       " Document(text='package depth is 75.2. name of the product is EC BOHEM BLK 6X9. package height is 6.7. package width is 6.7. package volumn is 1.949389. package weight is 41.557. full description is Enhance the appearance of your favorite indoor space with the Bohemian Black area rugIdeal for bedroom, living room, dining room or denMade in Turkey of high quality viscosePerfect area rug for medium to high traffic areasBlack modern/contemporary abstract indoor area rugRug is soft underfoot / to touch. ', doc_id='234bc8d9-0700-4740-85fa-9c2b19014233', embedding=None, doc_hash='00564dac827bfd66d427bd9a629170bf72267fa903ae7b3018652ee2df95eea4', extra_info=None)]"
      ]
     },
     "execution_count": 18,
     "metadata": {},
     "output_type": "execute_result"
    }
   ],
   "source": [
    "test_documents"
   ]
  },
  {
   "cell_type": "code",
   "execution_count": 19,
   "metadata": {},
   "outputs": [],
   "source": [
    "#response = index.query(\"product that is good for indoor\") \n",
    "#print(response) "
   ]
  },
  {
   "cell_type": "code",
   "execution_count": 23,
   "metadata": {},
   "outputs": [
    {
     "name": "stdout",
     "output_type": "stream",
     "text": [
      "TT+ ---------\n"
     ]
    }
   ],
   "source": [
    "response = index.query(\"how can be categorize the CLASS 2 HTCH 1-1/4?\") \n",
    "print(response) "
   ]
  },
  {
   "cell_type": "code",
   "execution_count": 24,
   "metadata": {},
   "outputs": [
    {
     "name": "stderr",
     "output_type": "stream",
     "text": [
      "C:\\Users\\Jihoon.DESKTOP-1HIBMQO\\AppData\\Local\\Packages\\PythonSoftwareFoundation.Python.3.10_qbz5n2kfra8p0\\LocalCache\\local-packages\\Python310\\site-packages\\transformers\\pipelines\\base.py:1043: UserWarning: You seem to be using the pipelines sequentially on GPU. In order to maximize efficiency please use a dataset\n",
      "  warnings.warn(\n"
     ]
    },
    {
     "name": "stdout",
     "output_type": "stream",
     "text": [
      "Lights up and self inflates in secondsStakes and tethers includedPlugs in to standard outlet ------------\n"
     ]
    }
   ],
   "source": [
    "response = index.query(\"what is TT+?\") \n",
    "print(response) "
   ]
  },
  {
   "attachments": {},
   "cell_type": "markdown",
   "metadata": {},
   "source": [
    "Cheery pick instance"
   ]
  },
  {
   "cell_type": "code",
   "execution_count": 26,
   "metadata": {},
   "outputs": [
    {
     "data": {
      "text/plain": [
       "Document(text='package depth is 75.2. name of the product is EC BOHEM BLK 6X9. package height is 6.7. package width is 6.7. package volumn is 1.949389. package weight is 41.557. full description is Enhance the appearance of your favorite indoor space with the Bohemian Black area rugIdeal for bedroom, living room, dining room or denMade in Turkey of high quality viscosePerfect area rug for medium to high traffic areasBlack modern/contemporary abstract indoor area rugRug is soft underfoot / to touch. ', doc_id='234bc8d9-0700-4740-85fa-9c2b19014233', embedding=None, doc_hash='00564dac827bfd66d427bd9a629170bf72267fa903ae7b3018652ee2df95eea4', extra_info=None)"
      ]
     },
     "execution_count": 26,
     "metadata": {},
     "output_type": "execute_result"
    }
   ],
   "source": [
    "test_documents[-1]"
   ]
  },
  {
   "cell_type": "code",
   "execution_count": 25,
   "metadata": {},
   "outputs": [
    {
     "name": "stdout",
     "output_type": "stream",
     "text": [
      "EC BOHEM BLK 6X9 ------------\n"
     ]
    }
   ],
   "source": [
    "response = index.query(\"which product will be helpful for appearacbce if my indoor space?\") \n",
    "print(response) "
   ]
  },
  {
   "cell_type": "code",
   "execution_count": 27,
   "metadata": {},
   "outputs": [
    {
     "name": "stderr",
     "output_type": "stream",
     "text": [
      "C:\\Users\\Jihoon.DESKTOP-1HIBMQO\\AppData\\Local\\Packages\\PythonSoftwareFoundation.Python.3.10_qbz5n2kfra8p0\\LocalCache\\local-packages\\Python310\\site-packages\\transformers\\pipelines\\base.py:1043: UserWarning: You seem to be using the pipelines sequentially on GPU. In order to maximize efficiency please use a dataset\n",
      "  warnings.warn(\n"
     ]
    },
    {
     "name": "stdout",
     "output_type": "stream",
     "text": [
      "Non-recyclable ---------\n"
     ]
    }
   ],
   "source": [
    "response = index.query(\"What kind of product is EC BOHEM BLK 6X9?\") \n",
    "print(response) "
   ]
  },
  {
   "cell_type": "code",
   "execution_count": 28,
   "metadata": {},
   "outputs": [
    {
     "name": "stdout",
     "output_type": "stream",
     "text": [
      "EC BOHEM BLK 6X9 is not recyclable\n"
     ]
    }
   ],
   "source": [
    "response = index.query(\"why is EC BOHEM BLK 6X9 non recyclable?\") \n",
    "print(response) "
   ]
  },
  {
   "cell_type": "code",
   "execution_count": 29,
   "metadata": {},
   "outputs": [
    {
     "name": "stdout",
     "output_type": "stream",
     "text": [
      "a raised lip to trap and contain spills, dirt, and grease away from your vehicle's interiorFeatures a textured surface to help prevent cargo from shiftingMade in Turkey of high quality viscosePerfect area rug for medium to high traffic areasBlack modern/contemporary abstract indoor area rugRug is soft underfoot / to touch. ------------\n"
     ]
    }
   ],
   "source": [
    "response = index.query(\"why is EC BOHEM BLK 6X9 is non recyclable?\") \n",
    "print(response) "
   ]
  },
  {
   "cell_type": "code",
   "execution_count": null,
   "metadata": {},
   "outputs": [],
   "source": []
  }
 ],
 "metadata": {
  "kernelspec": {
   "display_name": "Python 3",
   "language": "python",
   "name": "python3"
  },
  "language_info": {
   "codemirror_mode": {
    "name": "ipython",
    "version": 3
   },
   "file_extension": ".py",
   "mimetype": "text/x-python",
   "name": "python",
   "nbconvert_exporter": "python",
   "pygments_lexer": "ipython3",
   "version": "3.10.10"
  },
  "orig_nbformat": 4
 },
 "nbformat": 4,
 "nbformat_minor": 2
}
