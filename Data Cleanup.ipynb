{
 "cells": [
  {
   "attachments": {},
   "cell_type": "markdown",
   "metadata": {},
   "source": [
    "# Cleaning Data"
   ]
  },
  {
   "attachments": {},
   "cell_type": "markdown",
   "metadata": {},
   "source": [
    "Once the .csv files are in the right folders, run this notebook to clean the datasets for embedding generation\n",
    "\n",
    "The aim of this noteook is to make sure all the sales and basket products have product information associated with them"
   ]
  },
  {
   "attachments": {},
   "cell_type": "markdown",
   "metadata": {},
   "source": [
    "Imports"
   ]
  },
  {
   "cell_type": "code",
   "execution_count": 1,
   "metadata": {},
   "outputs": [],
   "source": [
    "import matplotlib.pyplot as plt\n",
    "\n",
    "import numpy as np\n",
    "import pandas as pd\n",
    "import seaborn as sns\n",
    "import scipy.stats as stats\n",
    "\n",
    "from sklearn.impute import SimpleImputer as Imputer  # Specific function from common machine learning package\n",
    "\n",
    "import glob\n",
    "import os\n",
    "from pathlib import Path"
   ]
  },
  {
   "cell_type": "markdown",
   "metadata": {},
   "source": [
    "Paths"
   ]
  },
  {
   "cell_type": "code",
   "execution_count": 2,
   "metadata": {},
   "outputs": [],
   "source": [
    "product_standard_path = \"Data/product/product_standard_attributes.csv\"\n",
    "product_advanced_path = \"Data/product/product_detailed_attributes.csv\"\n",
    "store_path = \"Data/store/store_attributes.csv\"\n",
    "sales_path = \"Data/weekly_sales\"\n",
    "basket_path = \"Data/basket_data\""
   ]
  },
  {
   "cell_type": "markdown",
   "metadata": {},
   "source": [
    "Clean Standard Products"
   ]
  },
  {
   "cell_type": "code",
   "execution_count": 3,
   "metadata": {},
   "outputs": [
    {
     "name": "stderr",
     "output_type": "stream",
     "text": [
      "C:\\Users\\Yixin\\AppData\\Local\\Temp\\ipykernel_8500\\3497620164.py:1: DtypeWarning: Columns (0) have mixed types. Specify dtype option on import or set low_memory=False.\n",
      "  df_product_standard = pd.read_csv(product_standard_path)\n"
     ]
    }
   ],
   "source": [
    "df_product_standard = pd.read_csv(product_standard_path)"
   ]
  },
  {
   "cell_type": "code",
   "execution_count": 4,
   "metadata": {},
   "outputs": [],
   "source": [
    "null_product_index = df_product_standard.loc[df_product_standard.isnull().sum(1)>10].index\n",
    "df_product_standard.drop(null_product_index, axis=0, inplace=True)\n",
    "\n",
    "df_product_standard.fillna({'package_depth_qty':0, 'package_height_qty':0, 'package_width_qty': 0,'package_volume_qty':0,'package_weight_qty':0,'national_consumer_price_amt':0 }, inplace=True)\n",
    "df_product_standard.fillna('',inplace=True)\n",
    "df_product_standard = df_product_standard[df_product_standard[\"ctr_product_num\"] != \"STORE_PRODUCT\"] \n",
    "df_product_standard[\"ctr_product_num\"] = df_product_standard[\"ctr_product_num\"].astype(np.int64)\n",
    "df_product_standard[\"product_creation_date\"] = df_product_standard[\"product_creation_date\"].astype('datetime64[ns]')\n",
    "df_product_standard[\"corporate_status_cd_change_date\"] = df_product_standard[\"corporate_status_cd_change_date\"].astype('datetime64[ns]')"
   ]
  },
  {
   "cell_type": "code",
   "execution_count": 5,
   "metadata": {},
   "outputs": [],
   "source": [
    "try:\n",
    "    os.mkdir(\"clean_data\")\n",
    "except:\n",
    "    None"
   ]
  },
  {
   "cell_type": "code",
   "execution_count": 6,
   "metadata": {},
   "outputs": [],
   "source": [
    "df_product_standard.to_csv(\"clean_data\\\\cleaned_products.csv\")"
   ]
  },
  {
   "cell_type": "code",
   "execution_count": 7,
   "metadata": {},
   "outputs": [],
   "source": [
    "#df_product_standard = None\n",
    "null_product_index = None"
   ]
  },
  {
   "attachments": {},
   "cell_type": "markdown",
   "metadata": {},
   "source": [
    "Clean Product Detail"
   ]
  },
  {
   "cell_type": "code",
   "execution_count": 8,
   "metadata": {},
   "outputs": [],
   "source": [
    "df_product_detailed = pd.read_csv(product_advanced_path)"
   ]
  },
  {
   "cell_type": "code",
   "execution_count": 9,
   "metadata": {},
   "outputs": [
    {
     "data": {
      "text/html": [
       "<div>\n",
       "<style scoped>\n",
       "    .dataframe tbody tr th:only-of-type {\n",
       "        vertical-align: middle;\n",
       "    }\n",
       "\n",
       "    .dataframe tbody tr th {\n",
       "        vertical-align: top;\n",
       "    }\n",
       "\n",
       "    .dataframe thead th {\n",
       "        text-align: right;\n",
       "    }\n",
       "</style>\n",
       "<table border=\"1\" class=\"dataframe\">\n",
       "  <thead>\n",
       "    <tr style=\"text-align: right;\">\n",
       "      <th></th>\n",
       "      <th>product_num</th>\n",
       "      <th>attribute_id</th>\n",
       "      <th>attr_value_mdm_seq_num</th>\n",
       "      <th>attr_lov_value_id</th>\n",
       "      <th>attr_value_en_txt</th>\n",
       "    </tr>\n",
       "  </thead>\n",
       "  <tbody>\n",
       "    <tr>\n",
       "      <th>0</th>\n",
       "      <td>NaN</td>\n",
       "      <td>FEATURES_BENEFITS_DLR_TXT</td>\n",
       "      <td>1</td>\n",
       "      <td>NaN</td>\n",
       "      <td>Permanent Tungsten Carbide Spikes provide supe...</td>\n",
       "    </tr>\n",
       "    <tr>\n",
       "      <th>1</th>\n",
       "      <td>NaN</td>\n",
       "      <td>FEATURES_BENEFITS_DLR_TXT</td>\n",
       "      <td>2</td>\n",
       "      <td>NaN</td>\n",
       "      <td>Adapts to most footwear</td>\n",
       "    </tr>\n",
       "    <tr>\n",
       "      <th>2</th>\n",
       "      <td>NaN</td>\n",
       "      <td>FEATURES_BENEFITS_DLR_TXT</td>\n",
       "      <td>3</td>\n",
       "      <td>NaN</td>\n",
       "      <td>Outer casing made from TPR can be worn in temp...</td>\n",
       "    </tr>\n",
       "    <tr>\n",
       "      <th>3</th>\n",
       "      <td>NaN</td>\n",
       "      <td>FEATURES_BENEFITS_DLR_TXT</td>\n",
       "      <td>4</td>\n",
       "      <td>NaN</td>\n",
       "      <td>Can be worn while driving or climbing ladders</td>\n",
       "    </tr>\n",
       "    <tr>\n",
       "      <th>4</th>\n",
       "      <td>NaN</td>\n",
       "      <td>FEATURES_BENEFITS_DLR_TXT</td>\n",
       "      <td>5</td>\n",
       "      <td>NaN</td>\n",
       "      <td>Easy step in, step out design</td>\n",
       "    </tr>\n",
       "    <tr>\n",
       "      <th>...</th>\n",
       "      <td>...</td>\n",
       "      <td>...</td>\n",
       "      <td>...</td>\n",
       "      <td>...</td>\n",
       "      <td>...</td>\n",
       "    </tr>\n",
       "    <tr>\n",
       "      <th>1981940</th>\n",
       "      <td>8997339.0</td>\n",
       "      <td>FEATURES_BENEFITS_DLR_TXT</td>\n",
       "      <td>2</td>\n",
       "      <td>NaN</td>\n",
       "      <td>Hockey backpack folds away into a separate zip...</td>\n",
       "    </tr>\n",
       "    <tr>\n",
       "      <th>1981941</th>\n",
       "      <td>8997339.0</td>\n",
       "      <td>FEATURES_BENEFITS_DLR_TXT</td>\n",
       "      <td>3</td>\n",
       "      <td>NaN</td>\n",
       "      <td>Hideaway padded backpack straps double as regular</td>\n",
       "    </tr>\n",
       "    <tr>\n",
       "      <th>1981942</th>\n",
       "      <td>8997339.0</td>\n",
       "      <td>FEATURES_BENEFITS_DLR_TXT</td>\n",
       "      <td>4</td>\n",
       "      <td>NaN</td>\n",
       "      <td>Multiple grab handles</td>\n",
       "    </tr>\n",
       "    <tr>\n",
       "      <th>1981943</th>\n",
       "      <td>8997339.0</td>\n",
       "      <td>FEATURES_BENEFITS_DLR_TXT</td>\n",
       "      <td>5</td>\n",
       "      <td>NaN</td>\n",
       "      <td>Large main compartment with separate floating ...</td>\n",
       "    </tr>\n",
       "    <tr>\n",
       "      <th>1981944</th>\n",
       "      <td>8997339.0</td>\n",
       "      <td>FEATURES_BENEFITS_DLR_TXT</td>\n",
       "      <td>6</td>\n",
       "      <td>NaN</td>\n",
       "      <td>Two separate floating skate pock</td>\n",
       "    </tr>\n",
       "  </tbody>\n",
       "</table>\n",
       "<p>1981945 rows × 5 columns</p>\n",
       "</div>"
      ],
      "text/plain": [
       "         product_num               attribute_id  attr_value_mdm_seq_num  \\\n",
       "0                NaN  FEATURES_BENEFITS_DLR_TXT                       1   \n",
       "1                NaN  FEATURES_BENEFITS_DLR_TXT                       2   \n",
       "2                NaN  FEATURES_BENEFITS_DLR_TXT                       3   \n",
       "3                NaN  FEATURES_BENEFITS_DLR_TXT                       4   \n",
       "4                NaN  FEATURES_BENEFITS_DLR_TXT                       5   \n",
       "...              ...                        ...                     ...   \n",
       "1981940    8997339.0  FEATURES_BENEFITS_DLR_TXT                       2   \n",
       "1981941    8997339.0  FEATURES_BENEFITS_DLR_TXT                       3   \n",
       "1981942    8997339.0  FEATURES_BENEFITS_DLR_TXT                       4   \n",
       "1981943    8997339.0  FEATURES_BENEFITS_DLR_TXT                       5   \n",
       "1981944    8997339.0  FEATURES_BENEFITS_DLR_TXT                       6   \n",
       "\n",
       "        attr_lov_value_id                                  attr_value_en_txt  \n",
       "0                     NaN  Permanent Tungsten Carbide Spikes provide supe...  \n",
       "1                     NaN                            Adapts to most footwear  \n",
       "2                     NaN  Outer casing made from TPR can be worn in temp...  \n",
       "3                     NaN      Can be worn while driving or climbing ladders  \n",
       "4                     NaN                      Easy step in, step out design  \n",
       "...                   ...                                                ...  \n",
       "1981940               NaN  Hockey backpack folds away into a separate zip...  \n",
       "1981941               NaN  Hideaway padded backpack straps double as regular  \n",
       "1981942               NaN                              Multiple grab handles  \n",
       "1981943               NaN  Large main compartment with separate floating ...  \n",
       "1981944               NaN                   Two separate floating skate pock  \n",
       "\n",
       "[1981945 rows x 5 columns]"
      ]
     },
     "execution_count": 9,
     "metadata": {},
     "output_type": "execute_result"
    }
   ],
   "source": [
    "df_product_detailed"
   ]
  },
  {
   "cell_type": "code",
   "execution_count": 10,
   "metadata": {},
   "outputs": [],
   "source": [
    "df_product_detailed[\"product_num\"] = df_product_detailed[\"product_num\"].astype('Int64')\n",
    "df_product_detailed.dtypes\n",
    "df_product_detailed = df_product_detailed.drop(df_product_detailed[df_product_detailed.product_num.isna()].index)\n",
    "df_product_detailed = df_product_detailed.rename(columns={'product_num': 'ctr_product_num'})\n",
    "df_product_detailed = df_product_detailed[~df_product_detailed.attr_value_en_txt.isin(['Features and Benefits not loaded','NaN','Features and benefits not loaded','Features and Benefits not loaded','Features and Benefits not loaded,','Na'])]\n",
    "df_product_detailed.attr_lov_value_id = df_product_detailed.attr_lov_value_id.fillna('')\n",
    "df_product_detailed.attr_value_en_txt = df_product_detailed.attr_value_en_txt.fillna('')\n",
    "df_product_detailed[[\"attribute_id\",\"attr_lov_value_id\", \"attr_value_en_txt\"]] = df_product_detailed[[\"attribute_id\",\"attr_lov_value_id\", \"attr_value_en_txt\"]].astype(str)\n",
    "df_product_detailed.groupby(\"ctr_product_num\").head()\n",
    "df_product_detailed['attr_value_en_sentence'] = df_product_detailed.groupby('ctr_product_num')['attr_value_en_txt'].transform(lambda x: ''.join(x))\n",
    "df_product_detailed['attr_value_en_sentence'] = df_product_detailed['attr_value_en_sentence'].str.strip(',')\n",
    "df_product_detailed['attr_value_en_sentence'] = df_product_detailed['attr_value_en_sentence'].str.strip(' ')\n",
    "df_product_detailed['attr_value_en_sentence'] = df_product_detailed['attr_value_en_sentence'].str.strip('.')"
   ]
  },
  {
   "cell_type": "code",
   "execution_count": 11,
   "metadata": {},
   "outputs": [
    {
     "data": {
      "text/html": [
       "<div>\n",
       "<style scoped>\n",
       "    .dataframe tbody tr th:only-of-type {\n",
       "        vertical-align: middle;\n",
       "    }\n",
       "\n",
       "    .dataframe tbody tr th {\n",
       "        vertical-align: top;\n",
       "    }\n",
       "\n",
       "    .dataframe thead th {\n",
       "        text-align: right;\n",
       "    }\n",
       "</style>\n",
       "<table border=\"1\" class=\"dataframe\">\n",
       "  <thead>\n",
       "    <tr style=\"text-align: right;\">\n",
       "      <th></th>\n",
       "      <th>ctr_product_num</th>\n",
       "      <th>attribute_id</th>\n",
       "      <th>attr_value_mdm_seq_num</th>\n",
       "      <th>attr_lov_value_id</th>\n",
       "      <th>attr_value_en_txt</th>\n",
       "      <th>attr_value_en_sentence</th>\n",
       "    </tr>\n",
       "  </thead>\n",
       "  <tbody>\n",
       "    <tr>\n",
       "      <th>36</th>\n",
       "      <td>4000</td>\n",
       "      <td>FEATURES_BENEFITS_DLR_TXT</td>\n",
       "      <td>1</td>\n",
       "      <td></td>\n",
       "      <td></td>\n",
       "      <td></td>\n",
       "    </tr>\n",
       "    <tr>\n",
       "      <th>98</th>\n",
       "      <td>5044</td>\n",
       "      <td>FEATURES_BENEFITS_DLR_TXT</td>\n",
       "      <td>1</td>\n",
       "      <td></td>\n",
       "      <td>Travel poker chips</td>\n",
       "      <td>Travel poker chips</td>\n",
       "    </tr>\n",
       "    <tr>\n",
       "      <th>99</th>\n",
       "      <td>5045</td>\n",
       "      <td>FEATURES_BENEFITS_DLR_TXT</td>\n",
       "      <td>1</td>\n",
       "      <td></td>\n",
       "      <td>40 piece poker chips</td>\n",
       "      <td>40 piece poker chips</td>\n",
       "    </tr>\n",
       "    <tr>\n",
       "      <th>1739</th>\n",
       "      <td>21465</td>\n",
       "      <td>FEATURES_MUTLI_CD</td>\n",
       "      <td>1</td>\n",
       "      <td>NO_ADVANCED_FEATURES</td>\n",
       "      <td></td>\n",
       "      <td></td>\n",
       "    </tr>\n",
       "    <tr>\n",
       "      <th>1741</th>\n",
       "      <td>21466</td>\n",
       "      <td>FEATURES_MUTLI_CD</td>\n",
       "      <td>1</td>\n",
       "      <td>NO_ADVANCED_FEATURES</td>\n",
       "      <td></td>\n",
       "      <td></td>\n",
       "    </tr>\n",
       "    <tr>\n",
       "      <th>...</th>\n",
       "      <td>...</td>\n",
       "      <td>...</td>\n",
       "      <td>...</td>\n",
       "      <td>...</td>\n",
       "      <td>...</td>\n",
       "      <td>...</td>\n",
       "    </tr>\n",
       "    <tr>\n",
       "      <th>1981940</th>\n",
       "      <td>8997339</td>\n",
       "      <td>FEATURES_BENEFITS_DLR_TXT</td>\n",
       "      <td>2</td>\n",
       "      <td></td>\n",
       "      <td>Hockey backpack folds away into a separate zip...</td>\n",
       "      <td>Heavy-duty 600D Polyester and WR-coated materi...</td>\n",
       "    </tr>\n",
       "    <tr>\n",
       "      <th>1981941</th>\n",
       "      <td>8997339</td>\n",
       "      <td>FEATURES_BENEFITS_DLR_TXT</td>\n",
       "      <td>3</td>\n",
       "      <td></td>\n",
       "      <td>Hideaway padded backpack straps double as regular</td>\n",
       "      <td>Heavy-duty 600D Polyester and WR-coated materi...</td>\n",
       "    </tr>\n",
       "    <tr>\n",
       "      <th>1981942</th>\n",
       "      <td>8997339</td>\n",
       "      <td>FEATURES_BENEFITS_DLR_TXT</td>\n",
       "      <td>4</td>\n",
       "      <td></td>\n",
       "      <td>Multiple grab handles</td>\n",
       "      <td>Heavy-duty 600D Polyester and WR-coated materi...</td>\n",
       "    </tr>\n",
       "    <tr>\n",
       "      <th>1981943</th>\n",
       "      <td>8997339</td>\n",
       "      <td>FEATURES_BENEFITS_DLR_TXT</td>\n",
       "      <td>5</td>\n",
       "      <td></td>\n",
       "      <td>Large main compartment with separate floating ...</td>\n",
       "      <td>Heavy-duty 600D Polyester and WR-coated materi...</td>\n",
       "    </tr>\n",
       "    <tr>\n",
       "      <th>1981944</th>\n",
       "      <td>8997339</td>\n",
       "      <td>FEATURES_BENEFITS_DLR_TXT</td>\n",
       "      <td>6</td>\n",
       "      <td></td>\n",
       "      <td>Two separate floating skate pock</td>\n",
       "      <td>Heavy-duty 600D Polyester and WR-coated materi...</td>\n",
       "    </tr>\n",
       "  </tbody>\n",
       "</table>\n",
       "<p>1559104 rows × 6 columns</p>\n",
       "</div>"
      ],
      "text/plain": [
       "         ctr_product_num               attribute_id  attr_value_mdm_seq_num  \\\n",
       "36                  4000  FEATURES_BENEFITS_DLR_TXT                       1   \n",
       "98                  5044  FEATURES_BENEFITS_DLR_TXT                       1   \n",
       "99                  5045  FEATURES_BENEFITS_DLR_TXT                       1   \n",
       "1739               21465          FEATURES_MUTLI_CD                       1   \n",
       "1741               21466          FEATURES_MUTLI_CD                       1   \n",
       "...                  ...                        ...                     ...   \n",
       "1981940          8997339  FEATURES_BENEFITS_DLR_TXT                       2   \n",
       "1981941          8997339  FEATURES_BENEFITS_DLR_TXT                       3   \n",
       "1981942          8997339  FEATURES_BENEFITS_DLR_TXT                       4   \n",
       "1981943          8997339  FEATURES_BENEFITS_DLR_TXT                       5   \n",
       "1981944          8997339  FEATURES_BENEFITS_DLR_TXT                       6   \n",
       "\n",
       "            attr_lov_value_id  \\\n",
       "36                              \n",
       "98                              \n",
       "99                              \n",
       "1739     NO_ADVANCED_FEATURES   \n",
       "1741     NO_ADVANCED_FEATURES   \n",
       "...                       ...   \n",
       "1981940                         \n",
       "1981941                         \n",
       "1981942                         \n",
       "1981943                         \n",
       "1981944                         \n",
       "\n",
       "                                         attr_value_en_txt  \\\n",
       "36                                                           \n",
       "98                                      Travel poker chips   \n",
       "99                                    40 piece poker chips   \n",
       "1739                                                         \n",
       "1741                                                         \n",
       "...                                                    ...   \n",
       "1981940  Hockey backpack folds away into a separate zip...   \n",
       "1981941  Hideaway padded backpack straps double as regular   \n",
       "1981942                              Multiple grab handles   \n",
       "1981943  Large main compartment with separate floating ...   \n",
       "1981944                   Two separate floating skate pock   \n",
       "\n",
       "                                    attr_value_en_sentence  \n",
       "36                                                          \n",
       "98                                      Travel poker chips  \n",
       "99                                    40 piece poker chips  \n",
       "1739                                                        \n",
       "1741                                                        \n",
       "...                                                    ...  \n",
       "1981940  Heavy-duty 600D Polyester and WR-coated materi...  \n",
       "1981941  Heavy-duty 600D Polyester and WR-coated materi...  \n",
       "1981942  Heavy-duty 600D Polyester and WR-coated materi...  \n",
       "1981943  Heavy-duty 600D Polyester and WR-coated materi...  \n",
       "1981944  Heavy-duty 600D Polyester and WR-coated materi...  \n",
       "\n",
       "[1559104 rows x 6 columns]"
      ]
     },
     "execution_count": 11,
     "metadata": {},
     "output_type": "execute_result"
    }
   ],
   "source": [
    "df_product_detailed"
   ]
  },
  {
   "cell_type": "code",
   "execution_count": 12,
   "metadata": {},
   "outputs": [],
   "source": [
    "df_product_detailed.to_csv(\"clean_data\\\\cleaned_products_detailed.csv\")"
   ]
  },
  {
   "cell_type": "code",
   "execution_count": 13,
   "metadata": {},
   "outputs": [],
   "source": [
    "df_product_detailed = None"
   ]
  },
  {
   "cell_type": "markdown",
   "metadata": {},
   "source": [
    "Clean Stores"
   ]
  },
  {
   "cell_type": "code",
   "execution_count": 14,
   "metadata": {},
   "outputs": [],
   "source": [
    "df_store = pd.read_csv(store_path)"
   ]
  },
  {
   "cell_type": "code",
   "execution_count": 15,
   "metadata": {},
   "outputs": [],
   "source": [
    "df_store = df_store.drop(columns=['soft_opening_date', 'grand_opening_date'])\n",
    "df_store = df_store.dropna(subset=['store_nm','province_cd','latitude_qty','longitude_qty','store_size_cd','retail_square_ft_qty','checkouts_count','store_concept_type_nm','winterized_canopy_txt'])\n",
    "\n",
    "values = {\"ins_garden_centre_sqr_ft_qty\": 0, \"number_of_service_bays_qty\": 0, \"onsite_propane_txt\": 'No', \"shopping_centre_nm\": '0'}\n",
    "df_store = df_store.fillna(value=values)\n",
    "\n",
    "# drop fake store\n",
    "df_store=df_store[~df_store['store_num'].isin([885,949])]\n",
    "\n",
    "change_type_list = ['retail_square_ft_qty','ins_garden_centre_sqr_ft_qty','number_of_service_bays_qty','checkouts_count']\n",
    "df_store[change_type_list] = df_store[change_type_list].astype(int)"
   ]
  },
  {
   "cell_type": "code",
   "execution_count": 16,
   "metadata": {},
   "outputs": [],
   "source": [
    "df_store.to_csv(\"clean_data\\\\cleaned_store.csv\")"
   ]
  },
  {
   "cell_type": "markdown",
   "metadata": {},
   "source": [
    "Clean Sales"
   ]
  },
  {
   "cell_type": "code",
   "execution_count": 17,
   "metadata": {},
   "outputs": [
    {
     "name": "stderr",
     "output_type": "stream",
     "text": [
      "C:\\Users\\Yixin\\AppData\\Local\\Temp\\ipykernel_8500\\3657685810.py:5: DtypeWarning: Columns (2) have mixed types. Specify dtype option on import or set low_memory=False.\n",
      "  dfs.append(pd.read_csv(file))\n",
      "C:\\Users\\Yixin\\AppData\\Local\\Temp\\ipykernel_8500\\3657685810.py:5: DtypeWarning: Columns (2) have mixed types. Specify dtype option on import or set low_memory=False.\n",
      "  dfs.append(pd.read_csv(file))\n",
      "C:\\Users\\Yixin\\AppData\\Local\\Temp\\ipykernel_8500\\3657685810.py:5: DtypeWarning: Columns (2) have mixed types. Specify dtype option on import or set low_memory=False.\n",
      "  dfs.append(pd.read_csv(file))\n",
      "C:\\Users\\Yixin\\AppData\\Local\\Temp\\ipykernel_8500\\3657685810.py:5: DtypeWarning: Columns (2) have mixed types. Specify dtype option on import or set low_memory=False.\n",
      "  dfs.append(pd.read_csv(file))\n",
      "C:\\Users\\Yixin\\AppData\\Local\\Temp\\ipykernel_8500\\3657685810.py:5: DtypeWarning: Columns (2) have mixed types. Specify dtype option on import or set low_memory=False.\n",
      "  dfs.append(pd.read_csv(file))\n",
      "C:\\Users\\Yixin\\AppData\\Local\\Temp\\ipykernel_8500\\3657685810.py:5: DtypeWarning: Columns (2) have mixed types. Specify dtype option on import or set low_memory=False.\n",
      "  dfs.append(pd.read_csv(file))\n",
      "C:\\Users\\Yixin\\AppData\\Local\\Temp\\ipykernel_8500\\3657685810.py:5: DtypeWarning: Columns (2) have mixed types. Specify dtype option on import or set low_memory=False.\n",
      "  dfs.append(pd.read_csv(file))\n",
      "C:\\Users\\Yixin\\AppData\\Local\\Temp\\ipykernel_8500\\3657685810.py:5: DtypeWarning: Columns (2) have mixed types. Specify dtype option on import or set low_memory=False.\n",
      "  dfs.append(pd.read_csv(file))\n",
      "C:\\Users\\Yixin\\AppData\\Local\\Temp\\ipykernel_8500\\3657685810.py:5: DtypeWarning: Columns (2) have mixed types. Specify dtype option on import or set low_memory=False.\n",
      "  dfs.append(pd.read_csv(file))\n",
      "C:\\Users\\Yixin\\AppData\\Local\\Temp\\ipykernel_8500\\3657685810.py:5: DtypeWarning: Columns (2) have mixed types. Specify dtype option on import or set low_memory=False.\n",
      "  dfs.append(pd.read_csv(file))\n",
      "C:\\Users\\Yixin\\AppData\\Local\\Temp\\ipykernel_8500\\3657685810.py:5: DtypeWarning: Columns (2) have mixed types. Specify dtype option on import or set low_memory=False.\n",
      "  dfs.append(pd.read_csv(file))\n",
      "C:\\Users\\Yixin\\AppData\\Local\\Temp\\ipykernel_8500\\3657685810.py:5: DtypeWarning: Columns (2) have mixed types. Specify dtype option on import or set low_memory=False.\n",
      "  dfs.append(pd.read_csv(file))\n",
      "C:\\Users\\Yixin\\AppData\\Local\\Temp\\ipykernel_8500\\3657685810.py:5: DtypeWarning: Columns (2) have mixed types. Specify dtype option on import or set low_memory=False.\n",
      "  dfs.append(pd.read_csv(file))\n",
      "C:\\Users\\Yixin\\AppData\\Local\\Temp\\ipykernel_8500\\3657685810.py:5: DtypeWarning: Columns (2) have mixed types. Specify dtype option on import or set low_memory=False.\n",
      "  dfs.append(pd.read_csv(file))\n",
      "C:\\Users\\Yixin\\AppData\\Local\\Temp\\ipykernel_8500\\3657685810.py:5: DtypeWarning: Columns (2) have mixed types. Specify dtype option on import or set low_memory=False.\n",
      "  dfs.append(pd.read_csv(file))\n",
      "C:\\Users\\Yixin\\AppData\\Local\\Temp\\ipykernel_8500\\3657685810.py:5: DtypeWarning: Columns (2) have mixed types. Specify dtype option on import or set low_memory=False.\n",
      "  dfs.append(pd.read_csv(file))\n",
      "C:\\Users\\Yixin\\AppData\\Local\\Temp\\ipykernel_8500\\3657685810.py:5: DtypeWarning: Columns (2) have mixed types. Specify dtype option on import or set low_memory=False.\n",
      "  dfs.append(pd.read_csv(file))\n",
      "C:\\Users\\Yixin\\AppData\\Local\\Temp\\ipykernel_8500\\3657685810.py:5: DtypeWarning: Columns (2) have mixed types. Specify dtype option on import or set low_memory=False.\n",
      "  dfs.append(pd.read_csv(file))\n",
      "C:\\Users\\Yixin\\AppData\\Local\\Temp\\ipykernel_8500\\3657685810.py:5: DtypeWarning: Columns (2) have mixed types. Specify dtype option on import or set low_memory=False.\n",
      "  dfs.append(pd.read_csv(file))\n",
      "C:\\Users\\Yixin\\AppData\\Local\\Temp\\ipykernel_8500\\3657685810.py:5: DtypeWarning: Columns (2) have mixed types. Specify dtype option on import or set low_memory=False.\n",
      "  dfs.append(pd.read_csv(file))\n",
      "C:\\Users\\Yixin\\AppData\\Local\\Temp\\ipykernel_8500\\3657685810.py:5: DtypeWarning: Columns (2) have mixed types. Specify dtype option on import or set low_memory=False.\n",
      "  dfs.append(pd.read_csv(file))\n",
      "C:\\Users\\Yixin\\AppData\\Local\\Temp\\ipykernel_8500\\3657685810.py:5: DtypeWarning: Columns (2) have mixed types. Specify dtype option on import or set low_memory=False.\n",
      "  dfs.append(pd.read_csv(file))\n",
      "C:\\Users\\Yixin\\AppData\\Local\\Temp\\ipykernel_8500\\3657685810.py:5: DtypeWarning: Columns (2) have mixed types. Specify dtype option on import or set low_memory=False.\n",
      "  dfs.append(pd.read_csv(file))\n",
      "C:\\Users\\Yixin\\AppData\\Local\\Temp\\ipykernel_8500\\3657685810.py:5: DtypeWarning: Columns (2) have mixed types. Specify dtype option on import or set low_memory=False.\n",
      "  dfs.append(pd.read_csv(file))\n",
      "C:\\Users\\Yixin\\AppData\\Local\\Temp\\ipykernel_8500\\3657685810.py:5: DtypeWarning: Columns (2) have mixed types. Specify dtype option on import or set low_memory=False.\n",
      "  dfs.append(pd.read_csv(file))\n",
      "C:\\Users\\Yixin\\AppData\\Local\\Temp\\ipykernel_8500\\3657685810.py:5: DtypeWarning: Columns (2) have mixed types. Specify dtype option on import or set low_memory=False.\n",
      "  dfs.append(pd.read_csv(file))\n",
      "C:\\Users\\Yixin\\AppData\\Local\\Temp\\ipykernel_8500\\3657685810.py:5: DtypeWarning: Columns (2) have mixed types. Specify dtype option on import or set low_memory=False.\n",
      "  dfs.append(pd.read_csv(file))\n",
      "C:\\Users\\Yixin\\AppData\\Local\\Temp\\ipykernel_8500\\3657685810.py:5: DtypeWarning: Columns (2) have mixed types. Specify dtype option on import or set low_memory=False.\n",
      "  dfs.append(pd.read_csv(file))\n",
      "C:\\Users\\Yixin\\AppData\\Local\\Temp\\ipykernel_8500\\3657685810.py:5: DtypeWarning: Columns (2) have mixed types. Specify dtype option on import or set low_memory=False.\n",
      "  dfs.append(pd.read_csv(file))\n",
      "C:\\Users\\Yixin\\AppData\\Local\\Temp\\ipykernel_8500\\3657685810.py:5: DtypeWarning: Columns (2) have mixed types. Specify dtype option on import or set low_memory=False.\n",
      "  dfs.append(pd.read_csv(file))\n",
      "C:\\Users\\Yixin\\AppData\\Local\\Temp\\ipykernel_8500\\3657685810.py:5: DtypeWarning: Columns (2) have mixed types. Specify dtype option on import or set low_memory=False.\n",
      "  dfs.append(pd.read_csv(file))\n",
      "C:\\Users\\Yixin\\AppData\\Local\\Temp\\ipykernel_8500\\3657685810.py:5: DtypeWarning: Columns (2) have mixed types. Specify dtype option on import or set low_memory=False.\n",
      "  dfs.append(pd.read_csv(file))\n",
      "C:\\Users\\Yixin\\AppData\\Local\\Temp\\ipykernel_8500\\3657685810.py:5: DtypeWarning: Columns (2) have mixed types. Specify dtype option on import or set low_memory=False.\n",
      "  dfs.append(pd.read_csv(file))\n",
      "C:\\Users\\Yixin\\AppData\\Local\\Temp\\ipykernel_8500\\3657685810.py:5: DtypeWarning: Columns (2) have mixed types. Specify dtype option on import or set low_memory=False.\n",
      "  dfs.append(pd.read_csv(file))\n",
      "C:\\Users\\Yixin\\AppData\\Local\\Temp\\ipykernel_8500\\3657685810.py:5: DtypeWarning: Columns (2) have mixed types. Specify dtype option on import or set low_memory=False.\n",
      "  dfs.append(pd.read_csv(file))\n",
      "C:\\Users\\Yixin\\AppData\\Local\\Temp\\ipykernel_8500\\3657685810.py:5: DtypeWarning: Columns (2) have mixed types. Specify dtype option on import or set low_memory=False.\n",
      "  dfs.append(pd.read_csv(file))\n",
      "C:\\Users\\Yixin\\AppData\\Local\\Temp\\ipykernel_8500\\3657685810.py:5: DtypeWarning: Columns (2) have mixed types. Specify dtype option on import or set low_memory=False.\n",
      "  dfs.append(pd.read_csv(file))\n",
      "C:\\Users\\Yixin\\AppData\\Local\\Temp\\ipykernel_8500\\3657685810.py:5: DtypeWarning: Columns (2) have mixed types. Specify dtype option on import or set low_memory=False.\n",
      "  dfs.append(pd.read_csv(file))\n",
      "C:\\Users\\Yixin\\AppData\\Local\\Temp\\ipykernel_8500\\3657685810.py:5: DtypeWarning: Columns (2) have mixed types. Specify dtype option on import or set low_memory=False.\n",
      "  dfs.append(pd.read_csv(file))\n",
      "C:\\Users\\Yixin\\AppData\\Local\\Temp\\ipykernel_8500\\3657685810.py:5: DtypeWarning: Columns (2) have mixed types. Specify dtype option on import or set low_memory=False.\n",
      "  dfs.append(pd.read_csv(file))\n",
      "C:\\Users\\Yixin\\AppData\\Local\\Temp\\ipykernel_8500\\3657685810.py:5: DtypeWarning: Columns (2) have mixed types. Specify dtype option on import or set low_memory=False.\n",
      "  dfs.append(pd.read_csv(file))\n",
      "C:\\Users\\Yixin\\AppData\\Local\\Temp\\ipykernel_8500\\3657685810.py:5: DtypeWarning: Columns (2) have mixed types. Specify dtype option on import or set low_memory=False.\n",
      "  dfs.append(pd.read_csv(file))\n",
      "C:\\Users\\Yixin\\AppData\\Local\\Temp\\ipykernel_8500\\3657685810.py:5: DtypeWarning: Columns (2) have mixed types. Specify dtype option on import or set low_memory=False.\n",
      "  dfs.append(pd.read_csv(file))\n",
      "C:\\Users\\Yixin\\AppData\\Local\\Temp\\ipykernel_8500\\3657685810.py:5: DtypeWarning: Columns (2) have mixed types. Specify dtype option on import or set low_memory=False.\n",
      "  dfs.append(pd.read_csv(file))\n",
      "C:\\Users\\Yixin\\AppData\\Local\\Temp\\ipykernel_8500\\3657685810.py:5: DtypeWarning: Columns (2) have mixed types. Specify dtype option on import or set low_memory=False.\n",
      "  dfs.append(pd.read_csv(file))\n",
      "C:\\Users\\Yixin\\AppData\\Local\\Temp\\ipykernel_8500\\3657685810.py:5: DtypeWarning: Columns (2) have mixed types. Specify dtype option on import or set low_memory=False.\n",
      "  dfs.append(pd.read_csv(file))\n",
      "C:\\Users\\Yixin\\AppData\\Local\\Temp\\ipykernel_8500\\3657685810.py:5: DtypeWarning: Columns (2) have mixed types. Specify dtype option on import or set low_memory=False.\n",
      "  dfs.append(pd.read_csv(file))\n",
      "C:\\Users\\Yixin\\AppData\\Local\\Temp\\ipykernel_8500\\3657685810.py:5: DtypeWarning: Columns (2) have mixed types. Specify dtype option on import or set low_memory=False.\n",
      "  dfs.append(pd.read_csv(file))\n",
      "C:\\Users\\Yixin\\AppData\\Local\\Temp\\ipykernel_8500\\3657685810.py:5: DtypeWarning: Columns (2) have mixed types. Specify dtype option on import or set low_memory=False.\n",
      "  dfs.append(pd.read_csv(file))\n",
      "C:\\Users\\Yixin\\AppData\\Local\\Temp\\ipykernel_8500\\3657685810.py:5: DtypeWarning: Columns (2) have mixed types. Specify dtype option on import or set low_memory=False.\n",
      "  dfs.append(pd.read_csv(file))\n",
      "C:\\Users\\Yixin\\AppData\\Local\\Temp\\ipykernel_8500\\3657685810.py:5: DtypeWarning: Columns (2) have mixed types. Specify dtype option on import or set low_memory=False.\n",
      "  dfs.append(pd.read_csv(file))\n",
      "C:\\Users\\Yixin\\AppData\\Local\\Temp\\ipykernel_8500\\3657685810.py:5: DtypeWarning: Columns (2) have mixed types. Specify dtype option on import or set low_memory=False.\n",
      "  dfs.append(pd.read_csv(file))\n"
     ]
    }
   ],
   "source": [
    "all_files = Path(sales_path).glob('*.csv') \n",
    "\n",
    "dfs = []\n",
    "for file in all_files:\n",
    "    dfs.append(pd.read_csv(file))\n",
    "    \n",
    "df_sales_data = pd.concat(dfs, ignore_index=True)\n",
    "dfs = None # Clear memory"
   ]
  },
  {
   "cell_type": "code",
   "execution_count": 18,
   "metadata": {},
   "outputs": [],
   "source": [
    "df_sales_data = df_sales_data[df_sales_data.product_num != \"STORE_PRODUCT\"]\n",
    "df_sales_data[\"product_num\"] = df_sales_data[\"product_num\"].astype(np.int64)\n",
    "df_sales_data = df_sales_data[df_sales_data[\"product_num\"].isin(df_product_standard[\"ctr_product_num\"].unique())\n",
    "                                 & df_sales_data[\"store_num\"].isin(df_store[\"store_num\"].unique())]"
   ]
  },
  {
   "cell_type": "code",
   "execution_count": 19,
   "metadata": {},
   "outputs": [],
   "source": [
    "df_sales_data.to_csv(\"clean_data\\\\cleaned_sales.csv\")\n",
    "df_sales_data = None"
   ]
  },
  {
   "cell_type": "markdown",
   "metadata": {},
   "source": [
    "Clean Basket"
   ]
  },
  {
   "cell_type": "code",
   "execution_count": 20,
   "metadata": {},
   "outputs": [],
   "source": [
    "all_files = Path(basket_path).glob('*.csv') \n",
    "\n",
    "dfs = []\n",
    "for file in all_files:\n",
    "    dfs.append(pd.read_csv(file))\n",
    "df_basket_data = pd.concat(dfs, ignore_index=True)\n",
    "dfs = None\n"
   ]
  },
  {
   "cell_type": "code",
   "execution_count": 21,
   "metadata": {},
   "outputs": [],
   "source": [
    "df_basket_data = df_basket_data[df_basket_data[\"product_num\"] != \"STORE_PRODUCT\"]\n",
    "df_basket_data[\"product_num\"] = df_basket_data[\"product_num\"].astype(np.int64)\n",
    "df_basket_data[\"transaction_date\"] = df_basket_data[\"transaction_date\"].astype('datetime64[ns]')\n",
    "\n",
    "df_basket_data = df_basket_data[df_basket_data[\"product_num\"].isin(df_product_standard[\"ctr_product_num\"].unique())\n",
    "                                 & df_basket_data[\"store_num\"].isin(df_store[\"store_num\"].unique())]"
   ]
  },
  {
   "cell_type": "code",
   "execution_count": 22,
   "metadata": {},
   "outputs": [],
   "source": [
    "df_basket_data.to_csv(\"clean_data\\\\cleaned_basket.csv\")\n",
    "df_basket_data = None"
   ]
  }
 ],
 "metadata": {
  "kernelspec": {
   "display_name": "ctciter1",
   "language": "python",
   "name": "python3"
  },
  "language_info": {
   "codemirror_mode": {
    "name": "ipython",
    "version": 3
   },
   "file_extension": ".py",
   "mimetype": "text/x-python",
   "name": "python",
   "nbconvert_exporter": "python",
   "pygments_lexer": "ipython3",
   "version": "3.10.9"
  },
  "orig_nbformat": 4,
  "vscode": {
   "interpreter": {
    "hash": "c2a3f525a885abe135a8a83fb70c42aac4b48e8c0db7add46fc3397d5848b112"
   }
  }
 },
 "nbformat": 4,
 "nbformat_minor": 2
}
