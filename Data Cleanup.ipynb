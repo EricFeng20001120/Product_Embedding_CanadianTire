{
 "cells": [
  {
   "attachments": {},
   "cell_type": "markdown",
   "metadata": {},
   "source": [
    "# Cleaning Data"
   ]
  },
  {
   "attachments": {},
   "cell_type": "markdown",
   "metadata": {},
   "source": [
    "Once the .csv files are in the right folders, run this notebook to clean the datasets for embedding generation\n",
    "\n",
    "The aim of this noteook is to make sure all the sales and basket products have product information associated with them"
   ]
  },
  {
   "attachments": {},
   "cell_type": "markdown",
   "metadata": {},
   "source": [
    "Imports"
   ]
  },
  {
   "cell_type": "code",
   "execution_count": null,
   "metadata": {},
   "outputs": [],
   "source": [
    "import matplotlib.pyplot as plt\n",
    "\n",
    "import numpy as np\n",
    "import pandas as pd\n",
    "import seaborn as sns\n",
    "import scipy.stats as stats\n",
    "\n",
    "from sklearn.impute import SimpleImputer as Imputer  # Specific function from common machine learning package\n",
    "\n",
    "import glob\n",
    "import os\n",
    "from pathlib import Path"
   ]
  },
  {
   "cell_type": "markdown",
   "metadata": {},
   "source": [
    "Paths"
   ]
  },
  {
   "cell_type": "code",
   "execution_count": null,
   "metadata": {},
   "outputs": [],
   "source": [
    "product_standard_path = \"Data/product/product_standard_attributes.csv\"\n",
    "product_advanced_path = \"Data/product/product_detailed_attributes.csv\"\n",
    "store_path = \"Data/store/store_attributes.csv\"\n",
    "sales_path = \"Data/weekly_sales\"\n",
    "basket_path = \"Data/basket_data\""
   ]
  },
  {
   "cell_type": "markdown",
   "metadata": {},
   "source": [
    "Clean Standard Products"
   ]
  },
  {
   "cell_type": "code",
   "execution_count": null,
   "metadata": {},
   "outputs": [],
   "source": [
    "df_product_standard = pd.read_csv(product_standard_path)"
   ]
  },
  {
   "cell_type": "code",
   "execution_count": null,
   "metadata": {},
   "outputs": [],
   "source": [
    "null_product_index = df_product_standard.loc[df_product_standard.isnull().sum(1)>10].index\n",
    "df_product_standard.drop(null_product_index, axis=0, inplace=True)\n",
    "\n",
    "df_product_standard.fillna({'package_depth_qty':0, 'package_height_qty':0, 'package_width_qty': 0,'package_volume_qty':0,'package_weight_qty':0,'national_consumer_price_amt':0 }, inplace=True)\n",
    "df_product_standard.fillna('',inplace=True)\n",
    "df_product_standard = df_product_standard[df_product_standard[\"ctr_product_num\"] != \"STORE_PRODUCT\"] \n",
    "df_product_standard[\"ctr_product_num\"] = df_product_standard[\"ctr_product_num\"].astype(np.int64)\n",
    "df_product_standard[\"product_creation_date\"] = df_product_standard[\"product_creation_date\"].astype('datetime64[ns]')\n",
    "df_product_standard[\"corporate_status_cd_change_date\"] = df_product_standard[\"corporate_status_cd_change_date\"].astype('datetime64[ns]')"
   ]
  },
  {
   "cell_type": "code",
   "execution_count": null,
   "metadata": {},
   "outputs": [],
   "source": [
    "try:\n",
    "    os.mkdir(\"clean_data\")\n",
    "except:\n",
    "    None"
   ]
  },
  {
   "cell_type": "code",
   "execution_count": null,
   "metadata": {},
   "outputs": [],
   "source": [
    "df_product_standard.to_csv(\"clean_data\\\\cleaned_products.csv\")"
   ]
  },
  {
   "cell_type": "code",
   "execution_count": null,
   "metadata": {},
   "outputs": [],
   "source": [
    "#df_product_standard = None\n",
    "null_product_index = None"
   ]
  },
  {
   "attachments": {},
   "cell_type": "markdown",
   "metadata": {},
   "source": [
    "Clean Product Detail"
   ]
  },
  {
   "cell_type": "code",
   "execution_count": null,
   "metadata": {},
   "outputs": [],
   "source": [
    "df_product_detailed = pd.read_csv(product_advanced_path)"
   ]
  },
  {
   "cell_type": "code",
   "execution_count": null,
   "metadata": {},
   "outputs": [],
   "source": [
    "df_product_detailed"
   ]
  },
  {
   "cell_type": "code",
   "execution_count": null,
   "metadata": {},
   "outputs": [],
   "source": [
    "df_product_detailed[\"product_num\"] = df_product_detailed[\"product_num\"].astype('Int64')\n",
    "df_product_detailed.dtypes\n",
    "df_product_detailed = df_product_detailed.drop(df_product_detailed[df_product_detailed.product_num.isna()].index)\n",
    "df_product_detailed = df_product_detailed.rename(columns={'product_num': 'ctr_product_num'})\n",
    "df_product_detailed = df_product_detailed[~df_product_detailed.attr_value_en_txt.isin(['Features and Benefits not loaded','NaN','Features and benefits not loaded','Features and Benefits not loaded','Features and Benefits not loaded,','Na'])]\n",
    "df_product_detailed.attr_lov_value_id = df_product_detailed.attr_lov_value_id.fillna('')\n",
    "df_product_detailed.attr_value_en_txt = df_product_detailed.attr_value_en_txt.fillna('')\n",
    "df_product_detailed[[\"attribute_id\",\"attr_lov_value_id\", \"attr_value_en_txt\"]] = df_product_detailed[[\"attribute_id\",\"attr_lov_value_id\", \"attr_value_en_txt\"]].astype(str)\n",
    "df_product_detailed.groupby(\"ctr_product_num\").head()\n",
    "df_product_detailed['attr_value_en_sentence'] = df_product_detailed.groupby('ctr_product_num')['attr_value_en_txt'].transform(lambda x: ''.join(x))\n",
    "df_product_detailed['attr_value_en_sentence'] = df_product_detailed['attr_value_en_sentence'].str.strip(',')\n",
    "df_product_detailed['attr_value_en_sentence'] = df_product_detailed['attr_value_en_sentence'].str.strip(' ')\n",
    "df_product_detailed['attr_value_en_sentence'] = df_product_detailed['attr_value_en_sentence'].str.strip('.')"
   ]
  },
  {
   "cell_type": "code",
   "execution_count": null,
   "metadata": {},
   "outputs": [],
   "source": [
    "df_product_detailed"
   ]
  },
  {
   "cell_type": "code",
   "execution_count": null,
   "metadata": {},
   "outputs": [],
   "source": [
    "df_product_detailed.to_csv(\"clean_data\\\\cleaned_products_detailed.csv\")"
   ]
  },
  {
   "cell_type": "code",
   "execution_count": null,
   "metadata": {},
   "outputs": [],
   "source": [
    "df_product_detailed = None"
   ]
  },
  {
   "cell_type": "markdown",
   "metadata": {},
   "source": [
    "Clean Stores"
   ]
  },
  {
   "cell_type": "code",
   "execution_count": null,
   "metadata": {},
   "outputs": [],
   "source": [
    "df_store = pd.read_csv(store_path)"
   ]
  },
  {
   "cell_type": "code",
   "execution_count": null,
   "metadata": {},
   "outputs": [],
   "source": [
    "df_store = df_store.drop(columns=['soft_opening_date', 'grand_opening_date'])\n",
    "df_store = df_store.dropna(subset=['store_nm','province_cd','latitude_qty','longitude_qty','store_size_cd','retail_square_ft_qty','checkouts_count','store_concept_type_nm','winterized_canopy_txt'])\n",
    "\n",
    "values = {\"ins_garden_centre_sqr_ft_qty\": 0, \"number_of_service_bays_qty\": 0, \"onsite_propane_txt\": 'No', \"shopping_centre_nm\": '0'}\n",
    "df_store = df_store.fillna(value=values)\n",
    "\n",
    "# drop fake store\n",
    "df_store=df_store[~df_store['store_num'].isin([885,949])]\n",
    "\n",
    "change_type_list = ['retail_square_ft_qty','ins_garden_centre_sqr_ft_qty','number_of_service_bays_qty','checkouts_count']\n",
    "df_store[change_type_list] = df_store[change_type_list].astype(int)"
   ]
  },
  {
   "cell_type": "code",
   "execution_count": null,
   "metadata": {},
   "outputs": [],
   "source": [
    "df_store.to_csv(\"clean_data\\\\cleaned_store.csv\")"
   ]
  },
  {
   "cell_type": "markdown",
   "metadata": {},
   "source": [
    "Clean Sales"
   ]
  },
  {
   "cell_type": "code",
   "execution_count": null,
   "metadata": {},
   "outputs": [],
   "source": [
    "all_files = Path(sales_path).glob('*.csv') \n",
    "\n",
    "dfs = []\n",
    "for file in all_files:\n",
    "    dfs.append(pd.read_csv(file))\n",
    "    \n",
    "df_sales_data = pd.concat(dfs, ignore_index=True)\n",
    "dfs = None # Clear memory"
   ]
  },
  {
   "cell_type": "code",
   "execution_count": null,
   "metadata": {},
   "outputs": [],
   "source": [
    "df_sales_data = df_sales_data[df_sales_data.product_num != \"STORE_PRODUCT\"]\n",
    "df_sales_data[\"product_num\"] = df_sales_data[\"product_num\"].astype(np.int64)\n",
    "df_sales_data = df_sales_data[df_sales_data[\"product_num\"].isin(df_product_standard[\"ctr_product_num\"].unique())\n",
    "                                 & df_sales_data[\"store_num\"].isin(df_store[\"store_num\"].unique())]"
   ]
  },
  {
   "cell_type": "code",
   "execution_count": null,
   "metadata": {},
   "outputs": [],
   "source": [
    "df_sales_data.to_csv(\"clean_data\\\\cleaned_sales.csv\")\n",
    "df_sales_data = None"
   ]
  },
  {
   "cell_type": "markdown",
   "metadata": {},
   "source": [
    "Clean Basket"
   ]
  },
  {
   "cell_type": "code",
   "execution_count": null,
   "metadata": {},
   "outputs": [],
   "source": [
    "all_files = Path(basket_path).glob('*.csv') \n",
    "\n",
    "dfs = []\n",
    "for file in all_files:\n",
    "    dfs.append(pd.read_csv(file))\n",
    "df_basket_data = pd.concat(dfs, ignore_index=True)\n",
    "dfs = None\n"
   ]
  },
  {
   "cell_type": "code",
   "execution_count": null,
   "metadata": {},
   "outputs": [],
   "source": [
    "df_basket_data = df_basket_data[df_basket_data[\"product_num\"] != \"STORE_PRODUCT\"]\n",
    "df_basket_data[\"product_num\"] = df_basket_data[\"product_num\"].astype(np.int64)\n",
    "df_basket_data[\"transaction_date\"] = df_basket_data[\"transaction_date\"].astype('datetime64[ns]')\n",
    "\n",
    "df_basket_data = df_basket_data[df_basket_data[\"product_num\"].isin(df_product_standard[\"ctr_product_num\"].unique())\n",
    "                                 & df_basket_data[\"store_num\"].isin(df_store[\"store_num\"].unique())]"
   ]
  },
  {
   "cell_type": "code",
   "execution_count": null,
   "metadata": {},
   "outputs": [],
   "source": [
    "df_basket_data.to_csv(\"clean_data\\\\cleaned_basket.csv\")\n",
    "df_basket_data = None"
   ]
  }
 ],
 "metadata": {
  "kernelspec": {
   "display_name": "ctciter1",
   "language": "python",
   "name": "python3"
  },
  "language_info": {
   "codemirror_mode": {
    "name": "ipython",
    "version": 3
   },
   "file_extension": ".py",
   "mimetype": "text/x-python",
   "name": "python",
   "nbconvert_exporter": "python",
   "pygments_lexer": "ipython3",
   "version": "3.10.9"
  },
  "orig_nbformat": 4,
  "vscode": {
   "interpreter": {
    "hash": "c2a3f525a885abe135a8a83fb70c42aac4b48e8c0db7add46fc3397d5848b112"
   }
  }
 },
 "nbformat": 4,
 "nbformat_minor": 2
}
